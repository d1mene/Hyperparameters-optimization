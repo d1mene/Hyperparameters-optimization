{
 "cells": [
  {
   "cell_type": "markdown",
   "metadata": {},
   "source": [
    "<center><span style='font-size:40px'>Методы подбора гиперпараметров </span><center>"
   ]
  },
  {
   "cell_type": "code",
   "execution_count": 105,
   "metadata": {},
   "outputs": [],
   "source": [
    "# импортируем библиотеки\n",
    "import numpy as np #для матричных вычислений\n",
    "import pandas as pd #для анализа и предобработки данных\n",
    "import matplotlib.pyplot as plt #для визуализации\n",
    "import seaborn as sns #для визуализации\n",
    "import warnings\n",
    "\n",
    "warnings.filterwarnings('ignore')\n",
    "\n",
    "\n",
    "from sklearn import linear_model #линейные моделиё\n",
    "from sklearn import tree #деревья решений\n",
    "from sklearn import ensemble #ансамбли\n",
    "from sklearn import metrics #метрики\n",
    "from sklearn import preprocessing #предобработка\n",
    "from sklearn.model_selection import train_test_split #сплитование выборки\n",
    "from sklearn.model_selection import KFold, cross_validate #кросс-валидация\n",
    "\n",
    "%matplotlib inline\n",
    "plt.style.use('bmh')"
   ]
  },
  {
   "cell_type": "code",
   "execution_count": 16,
   "metadata": {},
   "outputs": [
    {
     "data": {
      "text/html": [
       "<div>\n",
       "<style scoped>\n",
       "    .dataframe tbody tr th:only-of-type {\n",
       "        vertical-align: middle;\n",
       "    }\n",
       "\n",
       "    .dataframe tbody tr th {\n",
       "        vertical-align: top;\n",
       "    }\n",
       "\n",
       "    .dataframe thead th {\n",
       "        text-align: right;\n",
       "    }\n",
       "</style>\n",
       "<table border=\"1\" class=\"dataframe\">\n",
       "  <thead>\n",
       "    <tr style=\"text-align: right;\">\n",
       "      <th></th>\n",
       "      <th>Activity</th>\n",
       "      <th>D1</th>\n",
       "      <th>D2</th>\n",
       "      <th>D3</th>\n",
       "      <th>D4</th>\n",
       "      <th>D5</th>\n",
       "      <th>D6</th>\n",
       "      <th>D7</th>\n",
       "      <th>D8</th>\n",
       "      <th>D9</th>\n",
       "      <th>...</th>\n",
       "      <th>D1767</th>\n",
       "      <th>D1768</th>\n",
       "      <th>D1769</th>\n",
       "      <th>D1770</th>\n",
       "      <th>D1771</th>\n",
       "      <th>D1772</th>\n",
       "      <th>D1773</th>\n",
       "      <th>D1774</th>\n",
       "      <th>D1775</th>\n",
       "      <th>D1776</th>\n",
       "    </tr>\n",
       "  </thead>\n",
       "  <tbody>\n",
       "    <tr>\n",
       "      <th>0</th>\n",
       "      <td>1</td>\n",
       "      <td>0.000000</td>\n",
       "      <td>0.497009</td>\n",
       "      <td>0.10</td>\n",
       "      <td>0.0</td>\n",
       "      <td>0.132956</td>\n",
       "      <td>0.678031</td>\n",
       "      <td>0.273166</td>\n",
       "      <td>0.585445</td>\n",
       "      <td>0.743663</td>\n",
       "      <td>...</td>\n",
       "      <td>0</td>\n",
       "      <td>0</td>\n",
       "      <td>0</td>\n",
       "      <td>0</td>\n",
       "      <td>0</td>\n",
       "      <td>0</td>\n",
       "      <td>0</td>\n",
       "      <td>0</td>\n",
       "      <td>0</td>\n",
       "      <td>0</td>\n",
       "    </tr>\n",
       "    <tr>\n",
       "      <th>1</th>\n",
       "      <td>1</td>\n",
       "      <td>0.366667</td>\n",
       "      <td>0.606291</td>\n",
       "      <td>0.05</td>\n",
       "      <td>0.0</td>\n",
       "      <td>0.111209</td>\n",
       "      <td>0.803455</td>\n",
       "      <td>0.106105</td>\n",
       "      <td>0.411754</td>\n",
       "      <td>0.836582</td>\n",
       "      <td>...</td>\n",
       "      <td>1</td>\n",
       "      <td>1</td>\n",
       "      <td>1</td>\n",
       "      <td>1</td>\n",
       "      <td>0</td>\n",
       "      <td>1</td>\n",
       "      <td>0</td>\n",
       "      <td>0</td>\n",
       "      <td>1</td>\n",
       "      <td>0</td>\n",
       "    </tr>\n",
       "    <tr>\n",
       "      <th>2</th>\n",
       "      <td>1</td>\n",
       "      <td>0.033300</td>\n",
       "      <td>0.480124</td>\n",
       "      <td>0.00</td>\n",
       "      <td>0.0</td>\n",
       "      <td>0.209791</td>\n",
       "      <td>0.610350</td>\n",
       "      <td>0.356453</td>\n",
       "      <td>0.517720</td>\n",
       "      <td>0.679051</td>\n",
       "      <td>...</td>\n",
       "      <td>0</td>\n",
       "      <td>0</td>\n",
       "      <td>0</td>\n",
       "      <td>0</td>\n",
       "      <td>0</td>\n",
       "      <td>0</td>\n",
       "      <td>0</td>\n",
       "      <td>0</td>\n",
       "      <td>0</td>\n",
       "      <td>0</td>\n",
       "    </tr>\n",
       "    <tr>\n",
       "      <th>3</th>\n",
       "      <td>1</td>\n",
       "      <td>0.000000</td>\n",
       "      <td>0.538825</td>\n",
       "      <td>0.00</td>\n",
       "      <td>0.5</td>\n",
       "      <td>0.196344</td>\n",
       "      <td>0.724230</td>\n",
       "      <td>0.235606</td>\n",
       "      <td>0.288764</td>\n",
       "      <td>0.805110</td>\n",
       "      <td>...</td>\n",
       "      <td>0</td>\n",
       "      <td>0</td>\n",
       "      <td>0</td>\n",
       "      <td>0</td>\n",
       "      <td>0</td>\n",
       "      <td>0</td>\n",
       "      <td>0</td>\n",
       "      <td>0</td>\n",
       "      <td>0</td>\n",
       "      <td>0</td>\n",
       "    </tr>\n",
       "    <tr>\n",
       "      <th>4</th>\n",
       "      <td>0</td>\n",
       "      <td>0.100000</td>\n",
       "      <td>0.517794</td>\n",
       "      <td>0.00</td>\n",
       "      <td>0.0</td>\n",
       "      <td>0.494734</td>\n",
       "      <td>0.781422</td>\n",
       "      <td>0.154361</td>\n",
       "      <td>0.303809</td>\n",
       "      <td>0.812646</td>\n",
       "      <td>...</td>\n",
       "      <td>0</td>\n",
       "      <td>0</td>\n",
       "      <td>0</td>\n",
       "      <td>0</td>\n",
       "      <td>0</td>\n",
       "      <td>0</td>\n",
       "      <td>0</td>\n",
       "      <td>0</td>\n",
       "      <td>0</td>\n",
       "      <td>0</td>\n",
       "    </tr>\n",
       "    <tr>\n",
       "      <th>...</th>\n",
       "      <td>...</td>\n",
       "      <td>...</td>\n",
       "      <td>...</td>\n",
       "      <td>...</td>\n",
       "      <td>...</td>\n",
       "      <td>...</td>\n",
       "      <td>...</td>\n",
       "      <td>...</td>\n",
       "      <td>...</td>\n",
       "      <td>...</td>\n",
       "      <td>...</td>\n",
       "      <td>...</td>\n",
       "      <td>...</td>\n",
       "      <td>...</td>\n",
       "      <td>...</td>\n",
       "      <td>...</td>\n",
       "      <td>...</td>\n",
       "      <td>...</td>\n",
       "      <td>...</td>\n",
       "      <td>...</td>\n",
       "      <td>...</td>\n",
       "    </tr>\n",
       "    <tr>\n",
       "      <th>3746</th>\n",
       "      <td>1</td>\n",
       "      <td>0.033300</td>\n",
       "      <td>0.506409</td>\n",
       "      <td>0.10</td>\n",
       "      <td>0.0</td>\n",
       "      <td>0.209887</td>\n",
       "      <td>0.633426</td>\n",
       "      <td>0.297659</td>\n",
       "      <td>0.376124</td>\n",
       "      <td>0.727093</td>\n",
       "      <td>...</td>\n",
       "      <td>0</td>\n",
       "      <td>0</td>\n",
       "      <td>0</td>\n",
       "      <td>0</td>\n",
       "      <td>0</td>\n",
       "      <td>0</td>\n",
       "      <td>0</td>\n",
       "      <td>0</td>\n",
       "      <td>0</td>\n",
       "      <td>0</td>\n",
       "    </tr>\n",
       "    <tr>\n",
       "      <th>3747</th>\n",
       "      <td>1</td>\n",
       "      <td>0.133333</td>\n",
       "      <td>0.651023</td>\n",
       "      <td>0.15</td>\n",
       "      <td>0.0</td>\n",
       "      <td>0.151154</td>\n",
       "      <td>0.766505</td>\n",
       "      <td>0.170876</td>\n",
       "      <td>0.404546</td>\n",
       "      <td>0.787935</td>\n",
       "      <td>...</td>\n",
       "      <td>0</td>\n",
       "      <td>0</td>\n",
       "      <td>1</td>\n",
       "      <td>0</td>\n",
       "      <td>1</td>\n",
       "      <td>0</td>\n",
       "      <td>1</td>\n",
       "      <td>0</td>\n",
       "      <td>0</td>\n",
       "      <td>0</td>\n",
       "    </tr>\n",
       "    <tr>\n",
       "      <th>3748</th>\n",
       "      <td>0</td>\n",
       "      <td>0.200000</td>\n",
       "      <td>0.520564</td>\n",
       "      <td>0.00</td>\n",
       "      <td>0.0</td>\n",
       "      <td>0.179949</td>\n",
       "      <td>0.768785</td>\n",
       "      <td>0.177341</td>\n",
       "      <td>0.471179</td>\n",
       "      <td>0.872241</td>\n",
       "      <td>...</td>\n",
       "      <td>0</td>\n",
       "      <td>0</td>\n",
       "      <td>0</td>\n",
       "      <td>0</td>\n",
       "      <td>0</td>\n",
       "      <td>0</td>\n",
       "      <td>0</td>\n",
       "      <td>0</td>\n",
       "      <td>0</td>\n",
       "      <td>0</td>\n",
       "    </tr>\n",
       "    <tr>\n",
       "      <th>3749</th>\n",
       "      <td>1</td>\n",
       "      <td>0.100000</td>\n",
       "      <td>0.765646</td>\n",
       "      <td>0.00</td>\n",
       "      <td>0.0</td>\n",
       "      <td>0.536954</td>\n",
       "      <td>0.634936</td>\n",
       "      <td>0.342713</td>\n",
       "      <td>0.447162</td>\n",
       "      <td>0.672689</td>\n",
       "      <td>...</td>\n",
       "      <td>0</td>\n",
       "      <td>0</td>\n",
       "      <td>0</td>\n",
       "      <td>0</td>\n",
       "      <td>0</td>\n",
       "      <td>0</td>\n",
       "      <td>0</td>\n",
       "      <td>0</td>\n",
       "      <td>0</td>\n",
       "      <td>0</td>\n",
       "    </tr>\n",
       "    <tr>\n",
       "      <th>3750</th>\n",
       "      <td>0</td>\n",
       "      <td>0.133333</td>\n",
       "      <td>0.533952</td>\n",
       "      <td>0.00</td>\n",
       "      <td>0.0</td>\n",
       "      <td>0.347966</td>\n",
       "      <td>0.757971</td>\n",
       "      <td>0.230667</td>\n",
       "      <td>0.272652</td>\n",
       "      <td>0.854116</td>\n",
       "      <td>...</td>\n",
       "      <td>0</td>\n",
       "      <td>0</td>\n",
       "      <td>0</td>\n",
       "      <td>0</td>\n",
       "      <td>0</td>\n",
       "      <td>0</td>\n",
       "      <td>0</td>\n",
       "      <td>0</td>\n",
       "      <td>0</td>\n",
       "      <td>0</td>\n",
       "    </tr>\n",
       "  </tbody>\n",
       "</table>\n",
       "<p>3751 rows × 1777 columns</p>\n",
       "</div>"
      ],
      "text/plain": [
       "      Activity        D1        D2    D3   D4        D5        D6        D7  \\\n",
       "0            1  0.000000  0.497009  0.10  0.0  0.132956  0.678031  0.273166   \n",
       "1            1  0.366667  0.606291  0.05  0.0  0.111209  0.803455  0.106105   \n",
       "2            1  0.033300  0.480124  0.00  0.0  0.209791  0.610350  0.356453   \n",
       "3            1  0.000000  0.538825  0.00  0.5  0.196344  0.724230  0.235606   \n",
       "4            0  0.100000  0.517794  0.00  0.0  0.494734  0.781422  0.154361   \n",
       "...        ...       ...       ...   ...  ...       ...       ...       ...   \n",
       "3746         1  0.033300  0.506409  0.10  0.0  0.209887  0.633426  0.297659   \n",
       "3747         1  0.133333  0.651023  0.15  0.0  0.151154  0.766505  0.170876   \n",
       "3748         0  0.200000  0.520564  0.00  0.0  0.179949  0.768785  0.177341   \n",
       "3749         1  0.100000  0.765646  0.00  0.0  0.536954  0.634936  0.342713   \n",
       "3750         0  0.133333  0.533952  0.00  0.0  0.347966  0.757971  0.230667   \n",
       "\n",
       "            D8        D9  ...  D1767  D1768  D1769  D1770  D1771  D1772  \\\n",
       "0     0.585445  0.743663  ...      0      0      0      0      0      0   \n",
       "1     0.411754  0.836582  ...      1      1      1      1      0      1   \n",
       "2     0.517720  0.679051  ...      0      0      0      0      0      0   \n",
       "3     0.288764  0.805110  ...      0      0      0      0      0      0   \n",
       "4     0.303809  0.812646  ...      0      0      0      0      0      0   \n",
       "...        ...       ...  ...    ...    ...    ...    ...    ...    ...   \n",
       "3746  0.376124  0.727093  ...      0      0      0      0      0      0   \n",
       "3747  0.404546  0.787935  ...      0      0      1      0      1      0   \n",
       "3748  0.471179  0.872241  ...      0      0      0      0      0      0   \n",
       "3749  0.447162  0.672689  ...      0      0      0      0      0      0   \n",
       "3750  0.272652  0.854116  ...      0      0      0      0      0      0   \n",
       "\n",
       "      D1773  D1774  D1775  D1776  \n",
       "0         0      0      0      0  \n",
       "1         0      0      1      0  \n",
       "2         0      0      0      0  \n",
       "3         0      0      0      0  \n",
       "4         0      0      0      0  \n",
       "...     ...    ...    ...    ...  \n",
       "3746      0      0      0      0  \n",
       "3747      1      0      0      0  \n",
       "3748      0      0      0      0  \n",
       "3749      0      0      0      0  \n",
       "3750      0      0      0      0  \n",
       "\n",
       "[3751 rows x 1777 columns]"
      ]
     },
     "execution_count": 16,
     "metadata": {},
     "output_type": "execute_result"
    }
   ],
   "source": [
    "data = pd.read_csv('data\\_train_sem09 (1).csv')\n",
    "data"
   ]
  },
  {
   "cell_type": "code",
   "execution_count": 17,
   "metadata": {},
   "outputs": [
    {
     "data": {
      "text/plain": [
       "0"
      ]
     },
     "execution_count": 17,
     "metadata": {},
     "output_type": "execute_result"
    }
   ],
   "source": [
    "data.duplicated(subset=data.columns).sum()"
   ]
  },
  {
   "cell_type": "code",
   "execution_count": 18,
   "metadata": {},
   "outputs": [
    {
     "data": {
      "text/plain": [
       "0"
      ]
     },
     "execution_count": 18,
     "metadata": {},
     "output_type": "execute_result"
    }
   ],
   "source": [
    "data.isna().sum().sum()"
   ]
  },
  {
   "cell_type": "markdown",
   "metadata": {},
   "source": [
    "Пропусков и дубликатов нет."
   ]
  },
  {
   "cell_type": "code",
   "execution_count": 19,
   "metadata": {},
   "outputs": [],
   "source": [
    "# Зададим константное значение \n",
    "random_state = 42"
   ]
  },
  {
   "cell_type": "code",
   "execution_count": 20,
   "metadata": {},
   "outputs": [
    {
     "data": {
      "text/plain": [
       "<Axes: xlabel='Activity', ylabel='count'>"
      ]
     },
     "execution_count": 20,
     "metadata": {},
     "output_type": "execute_result"
    },
    {
     "data": {
      "image/png": "[encoded data removed]",
      "text/plain": [
       "<Figure size 640x480 with 1 Axes>"
      ]
     },
     "metadata": {},
     "output_type": "display_data"
    }
   ],
   "source": [
    "sns.countplot(data, x='Activity', orient='v')"
   ]
  },
  {
   "cell_type": "markdown",
   "metadata": {},
   "source": [
    "Как видим, значений Activity, равным 0, немного меньше, чем значений 1. Воспользуемся стратифицированным разделением."
   ]
  },
  {
   "cell_type": "code",
   "execution_count": 21,
   "metadata": {},
   "outputs": [
    {
     "name": "stdout",
     "output_type": "stream",
     "text": [
      "(3000, 1776) (751, 1776)\n"
     ]
    }
   ],
   "source": [
    "# Разделим фичи и целевой признак по отдельным переменным\n",
    "X = data.drop('Activity', axis=1)\n",
    "y = data['Activity']\n",
    "# Делим датафрейм на тренировочный и валидационный\n",
    "X_train, X_test, y_train, y_test = train_test_split(X, y, stratify=y, test_size=0.2, random_state=random_state)\n",
    "print(X_train.shape, X_test.shape)"
   ]
  },
  {
   "cell_type": "markdown",
   "metadata": {},
   "source": [
    "Посмотрим на целевую метрику - f1 score - при дефолтных значениях гиперпараметров модели."
   ]
  },
  {
   "cell_type": "code",
   "execution_count": 22,
   "metadata": {},
   "outputs": [
    {
     "name": "stdout",
     "output_type": "stream",
     "text": [
      "default logreg test f1-score: 0.78\n"
     ]
    }
   ],
   "source": [
    "# Создаём модель логистической регрессии\n",
    "log_reg_model = linear_model.LogisticRegression(max_iter=1000, random_state=random_state,)\n",
    "# Обучим модель и оценим её качество при дефолтных гиперпараметрах\n",
    "log_reg_model.fit(X_train, y_train)\n",
    "\n",
    "print('default logreg test f1-score: {}'.format(round(metrics.f1_score(y_test, log_reg_model.predict(X_test)), 2)))"
   ]
  },
  {
   "cell_type": "code",
   "execution_count": 23,
   "metadata": {},
   "outputs": [
    {
     "name": "stdout",
     "output_type": "stream",
     "text": [
      "default random forest test f1-score: 0.8\n"
     ]
    }
   ],
   "source": [
    "# Создаём модель случайного леса\n",
    "rnd_forest_model = ensemble.RandomForestClassifier(random_state=random_state)\n",
    "# Обучим модель и оценим её качество при дефолтных гиперпараметрах\n",
    "rnd_forest_model.fit(X_train, y_train)\n",
    "    \n",
    "print('default random forest test f1-score: {}'.format(round(metrics.f1_score(y_test, rnd_forest_model.predict(X_test)), 2)))"
   ]
  },
  {
   "cell_type": "markdown",
   "metadata": {},
   "source": [
    "# GridSearchCV"
   ]
  },
  {
   "cell_type": "code",
   "execution_count": 24,
   "metadata": {},
   "outputs": [],
   "source": [
    "from sklearn.model_selection import GridSearchCV"
   ]
  },
  {
   "cell_type": "markdown",
   "metadata": {},
   "source": [
    "<span style=\"font-size:28px\">Logistic Regression</span>"
   ]
  },
  {
   "cell_type": "code",
   "execution_count": 25,
   "metadata": {},
   "outputs": [
    {
     "name": "stdout",
     "output_type": "stream",
     "text": [
      "CPU times: total: 1.47 s\n",
      "Wall time: 2min 56s\n",
      "f1-score by GridSearchCV: 0.78\n",
      "best parameters by GridSearchCV: {'C': 0.2, 'penalty': 'l1', 'solver': 'liblinear'}\n"
     ]
    }
   ],
   "source": [
    "# Задаём сетку параметров\n",
    "param_grid = {\n",
    "    'penalty': ['l1', 'l2'],\n",
    "    'C': [0.01, 0.1, 0.2, 0.4, 0.8, 1, 2.5, 4],\n",
    "    'solver': ['liblinear', 'sag', 'newton-cholesky']\n",
    "}\n",
    "\n",
    "grid_searcher = GridSearchCV(\n",
    "    estimator = linear_model.LogisticRegression(random_state=random_state, max_iter=1000),\n",
    "    param_grid=param_grid,\n",
    "    cv=5,\n",
    "    n_jobs = -1\n",
    ")\n",
    "\n",
    "%time grid_searcher.fit(X_train, y_train)\n",
    "print('f1-score by GridSearchCV: {}'.format(round(metrics.f1_score(y_test, grid_searcher.predict(X_test)), 2)))\n",
    "print('best parameters by GridSearchCV: {}'.format(grid_searcher.best_params_))"
   ]
  },
  {
   "cell_type": "markdown",
   "metadata": {},
   "source": [
    "Как видим, f1-метрика никак не улучшилась по сравнению с дефолтными параметрами логистической регрессии, а по времени затратили целых 3 минуты вместо 0.5 секунд."
   ]
  },
  {
   "cell_type": "markdown",
   "metadata": {},
   "source": [
    "---"
   ]
  },
  {
   "cell_type": "markdown",
   "metadata": {},
   "source": [
    "<span style='font-size:28px'>Random Forest Classifier</span>"
   ]
  },
  {
   "cell_type": "code",
   "execution_count": 26,
   "metadata": {},
   "outputs": [
    {
     "name": "stdout",
     "output_type": "stream",
     "text": [
      "CPU times: total: 2.42 s\n",
      "Wall time: 38.3 s\n",
      "f1-score by GridSearchCV: 0.8\n",
      "best parameters by GridSearchCV: {'criterion': 'entropy', 'max_depth': 16, 'min_samples_leaf': 5}\n"
     ]
    }
   ],
   "source": [
    "# Задаём сетку параметров\n",
    "param_grid = {\n",
    "    'criterion': ['gini', 'entropy'],\n",
    "    'max_depth': list(np.linspace(3, 30, 5, dtype=int)),\n",
    "    'min_samples_leaf': list(np.linspace(5, 50, 5, dtype=int))\n",
    "}\n",
    "\n",
    "grid_searcher = GridSearchCV(\n",
    "    estimator = ensemble.RandomForestClassifier(random_state=random_state),\n",
    "    param_grid=param_grid,\n",
    "    cv=5,\n",
    "    n_jobs = -1\n",
    ")\n",
    "\n",
    "%time grid_searcher.fit(X_train, y_train)\n",
    "print('f1-score by GridSearchCV: {}'.format(round(metrics.f1_score(y_test, grid_searcher.predict(X_test)), 2)))\n",
    "print('best parameters by GridSearchCV: {}'.format(grid_searcher.best_params_))"
   ]
  },
  {
   "cell_type": "markdown",
   "metadata": {},
   "source": [
    "Для случайного леса метрика тоже осталась на том же уровне по сравнению с дефолтными значениями, хотя времени на выполнение кода затратилось меньше, чем для логистической регресии."
   ]
  },
  {
   "cell_type": "markdown",
   "metadata": {},
   "source": [
    "# RandomizedSearchCV"
   ]
  },
  {
   "cell_type": "code",
   "execution_count": 27,
   "metadata": {},
   "outputs": [],
   "source": [
    "from sklearn.model_selection import RandomizedSearchCV"
   ]
  },
  {
   "cell_type": "markdown",
   "metadata": {},
   "source": [
    "<span style=\"font-size:28px\">Logistic Regression</span>"
   ]
  },
  {
   "cell_type": "code",
   "execution_count": 28,
   "metadata": {},
   "outputs": [
    {
     "name": "stdout",
     "output_type": "stream",
     "text": [
      "CPU times: total: 3.28 s\n",
      "Wall time: 4min 51s\n",
      "f1-score by GridSearchCV: 0.78\n",
      "best parameters by GridSearchCV: {'solver': 'liblinear', 'penalty': 'l1', 'C': 0.2}\n"
     ]
    }
   ],
   "source": [
    "# Задаём сетку параметров\n",
    "param_distributions = {\n",
    "    'penalty': ['l1', 'l2', None],\n",
    "    'C': [0.01, 0.1, 0.2, 0.4, 0.8, 1, 2.5, 4],\n",
    "    'solver': ['liblinear', 'sag', 'newton-cholesky']\n",
    "}\n",
    "\n",
    "randomized_grid_searcher = RandomizedSearchCV(\n",
    "    estimator = linear_model.LogisticRegression(random_state=random_state, max_iter=1000),\n",
    "    param_distributions=param_distributions,\n",
    "    cv=5,\n",
    "    n_iter=50,\n",
    "    n_jobs = -1\n",
    ")\n",
    "\n",
    "%time randomized_grid_searcher.fit(X_train, y_train)\n",
    "print('f1-score by GridSearchCV: {}'.format(round(metrics.f1_score(y_test, randomized_grid_searcher.predict(X_test)), 2)))\n",
    "print('best parameters by GridSearchCV: {}'.format(randomized_grid_searcher.best_params_))"
   ]
  },
  {
   "cell_type": "markdown",
   "metadata": {},
   "source": [
    "RandomizedSearchCV предсказал те же параметры, что и обычный GridSearch. Времени потребовалось больше, чем в прошлый раз."
   ]
  },
  {
   "cell_type": "markdown",
   "metadata": {},
   "source": [
    "<span style='font-size:28px'>Random Forest Classifier</span>"
   ]
  },
  {
   "cell_type": "code",
   "execution_count": 29,
   "metadata": {},
   "outputs": [
    {
     "name": "stdout",
     "output_type": "stream",
     "text": [
      "CPU times: total: 2.89 s\n",
      "Wall time: 1min\n",
      "f1-score by RandomizedSearchCV: 0.79\n",
      "best parameters by RandomizedSearchCV: {'n_estimators': 160, 'min_samples_leaf': 5, 'max_depth': 21, 'criterion': 'entropy'}\n"
     ]
    }
   ],
   "source": [
    "# Задаём сетку параметров\n",
    "params = {\n",
    "    'n_estimators': list(range(100, 200, 30)),\n",
    "    'criterion': ['gini', 'entropy'],\n",
    "    'max_depth': list(np.linspace(10, 50, 30, dtype=int)),\n",
    "    'min_samples_leaf': list(np.linspace(5, 50, 5, dtype=int))\n",
    "}\n",
    "\n",
    "rand_grid_searcher = RandomizedSearchCV(\n",
    "    estimator = ensemble.RandomForestClassifier(random_state=random_state),\n",
    "    param_distributions=params,\n",
    "    cv=5,\n",
    "    n_iter=50,\n",
    "    n_jobs = -1\n",
    ")\n",
    "\n",
    "%time rand_grid_searcher.fit(X_train, y_train)\n",
    "print('f1-score by RandomizedSearchCV: {}'.format(round(metrics.f1_score(y_test, rand_grid_searcher.predict(X_test)), 2)))\n",
    "print('best parameters by RandomizedSearchCV: {}'.format(rand_grid_searcher.best_params_))"
   ]
  },
  {
   "cell_type": "markdown",
   "metadata": {},
   "source": [
    "Для случайного леса метрика осталась примерно на том же уровне, что и для дефолтных значений, хотя времени на выполнение кода затратилось меньше, чем для логистической регресии. Помимо этого, мы смогли подобрать еще и оптимальное кол-во деревьев решений."
   ]
  },
  {
   "cell_type": "markdown",
   "metadata": {},
   "source": [
    "# Hyperopt"
   ]
  },
  {
   "cell_type": "code",
   "execution_count": 30,
   "metadata": {},
   "outputs": [],
   "source": [
    "from hyperopt import hp, tpe, Trials, fmin"
   ]
  },
  {
   "cell_type": "markdown",
   "metadata": {},
   "source": [
    "<span style=\"font-size:28px\">Logistic Regression</span>"
   ]
  },
  {
   "cell_type": "code",
   "execution_count": 31,
   "metadata": {},
   "outputs": [],
   "source": [
    "# пространство поиска параметров\n",
    "space = {\n",
    "    'penalty': hp.choice('penalty', ['l1', 'l2']),\n",
    "    'C': hp.quniform('C', 0.1, 1, 0.1),\n",
    "    'solver': hp.choice('solver', ['liblinear', 'sag', 'newton-cholesky', 'saga'])\n",
    "}\n",
    "\n",
    "# функция, с помощью которой находится максимальное значение метрики\n",
    "def hyperopt_func(params, cv=5, X=X_train, y=y_train, random_state=random_state):\n",
    "    try: \n",
    "        # задаём пространство поиска параметров внутри функции\n",
    "        params = {\n",
    "            'penalty': params['penalty'],\n",
    "            'C': params['C'],\n",
    "            'solver': params['solver']\n",
    "        }\n",
    "        # создаём и обучаем модель\n",
    "        model = linear_model.LogisticRegression(**params, random_state=random_state)\n",
    "        model.fit(X_train, y_train)\n",
    "        # считаем метрику\n",
    "        score = metrics.f1_score(y_test, model.predict(X_test))\n",
    "        # т.к. функция fmin находит минимумы, будем возвращать отрицательные значения\n",
    "        return -score\n",
    "    except ValueError:\n",
    "        return float('inf')"
   ]
  },
  {
   "cell_type": "code",
   "execution_count": 32,
   "metadata": {},
   "outputs": [
    {
     "name": "stdout",
     "output_type": "stream",
     "text": [
      "100%|██████████| 25/25 [00:46<00:00,  1.87s/trial, best loss: -0.7857142857142857]\n",
      "Наилучшие значения гиперпараметров {'C': 0.1, 'penalty': 1, 'solver': 1}\n"
     ]
    }
   ],
   "source": [
    "# задаём \"хранилище\" гиперпараметров\n",
    "trials = Trials()\n",
    "\n",
    "best_params = fmin(\n",
    "    hyperopt_func,\n",
    "    space=space,\n",
    "    max_evals=25,\n",
    "    algo=tpe.suggest,\n",
    "    trials=trials,\n",
    "    rstate=np.random.default_rng(random_state)\n",
    ")\n",
    "\n",
    "print(\"Наилучшие значения гиперпараметров {}\".format(best_params))"
   ]
  },
  {
   "cell_type": "code",
   "execution_count": 33,
   "metadata": {},
   "outputs": [
    {
     "data": {
      "text/plain": [
       "{'C': 0.1, 'penalty': 'l2', 'solver': 'sag'}"
      ]
     },
     "execution_count": 33,
     "metadata": {},
     "output_type": "execute_result"
    }
   ],
   "source": [
    "# Hyperopt возвращает индексы для категориальных гиперпараметров, найдём истинные значения\n",
    "best_params['penalty'] = ['l1', 'l2'][best_params['penalty']]\n",
    "best_params['solver'] = ['liblinear', 'sag', 'newton-cholesky', 'saga'][best_params['solver']]\n",
    "best_params"
   ]
  },
  {
   "cell_type": "code",
   "execution_count": 34,
   "metadata": {},
   "outputs": [
    {
     "name": "stdout",
     "output_type": "stream",
     "text": [
      "best f1-score by Hyperopt: 0.79\n"
     ]
    }
   ],
   "source": [
    "log_reg_model = linear_model.LogisticRegression(**best_params, random_state=random_state, max_iter=1000)\n",
    "log_reg_model.fit(X_train, y_train)\n",
    "print('best f1-score by Hyperopt: {}'.format(round(metrics.f1_score(y_test, log_reg_model.predict(X_test)), 2)))"
   ]
  },
  {
   "cell_type": "markdown",
   "metadata": {},
   "source": [
    "Hyperopt определил отличный от методов \"сетки\" набор гиперпараметров, который показал пока что лучший результат f1 метрики, и к тому же код выполнился быстрее всех."
   ]
  },
  {
   "cell_type": "markdown",
   "metadata": {},
   "source": [
    "<span style='font-size:28px'>Random Forest Classifier</span>"
   ]
  },
  {
   "cell_type": "code",
   "execution_count": 35,
   "metadata": {},
   "outputs": [],
   "source": [
    "# пространство поиска параметров\n",
    "space = {\n",
    "    'criterion': hp.choice('criterion', ['gini', 'entropy', 'logloss']),\n",
    "    'n_estimators': hp.quniform('n_estimators', 100, 300, 10),\n",
    "    'max_depth': hp.quniform('max_depth', 5, 70, 5),\n",
    "    'min_samples_leaf': hp.quniform('min_samples_leaf', 5, 100, 5)\n",
    "}\n",
    "\n",
    "# функция, с помощью которой находится максимальное значение метрики\n",
    "def hyperopt_func(params, cv=5, X=X_train, y=y_train, random_state=random_state):\n",
    "    try: \n",
    "        # задаём пространство поиска параметров внутри функции\n",
    "        params = {\n",
    "            'criterion': params['criterion'],\n",
    "            'n_estimators': int(params['n_estimators']),\n",
    "            'max_depth': int(params['max_depth']),\n",
    "            'min_samples_leaf': int(params['min_samples_leaf'])\n",
    "        }\n",
    "        # создаём и обучаем модель\n",
    "        model = ensemble.RandomForestClassifier(**params, random_state=random_state)\n",
    "        model.fit(X_train, y_train)\n",
    "        # считаем метрику\n",
    "        score = metrics.f1_score(y_test, model.predict(X_test))\n",
    "        # т.к. функция fmin находит минимумы, будем возвращать отрицательные значения\n",
    "        return -score\n",
    "    except ValueError:\n",
    "        return float('inf')"
   ]
  },
  {
   "cell_type": "code",
   "execution_count": 36,
   "metadata": {},
   "outputs": [
    {
     "name": "stdout",
     "output_type": "stream",
     "text": [
      "100%|██████████| 50/50 [01:00<00:00,  1.20s/trial, best loss: -0.7995169082125604]\n",
      "Наилучшие значения гиперпараметров {'criterion': 1, 'max_depth': 40.0, 'min_samples_leaf': 5.0, 'n_estimators': 210.0}\n"
     ]
    }
   ],
   "source": [
    "# задаём \"хранилище\" гиперпараметров\n",
    "trials = Trials()\n",
    "\n",
    "best_params = fmin(\n",
    "    hyperopt_func,\n",
    "    space=space,\n",
    "    max_evals=50,\n",
    "    algo=tpe.suggest,\n",
    "    trials=trials,\n",
    "    rstate=np.random.default_rng(random_state)\n",
    ")\n",
    "\n",
    "print(\"Наилучшие значения гиперпараметров {}\".format(best_params))"
   ]
  },
  {
   "cell_type": "code",
   "execution_count": 37,
   "metadata": {},
   "outputs": [
    {
     "name": "stdout",
     "output_type": "stream",
     "text": [
      "best f1-score by Hyperopt: 0.8\n"
     ]
    }
   ],
   "source": [
    "# Hyperopt возвращает индексы для категориальных гиперпараметров, найдём истинные значения\n",
    "best_params['criterion'] = ['gini', 'entropy', 'logloss'][best_params['criterion']]\n",
    "# Также Hyperopt возвращает числа типа float, нужно поменять формат на integer\n",
    "for i in best_params.keys():\n",
    "    if i != 'criterion':\n",
    "        best_params[i] = int(best_params[i])\n",
    "        \n",
    "\n",
    "rnd_forest_model = ensemble.RandomForestClassifier(**best_params, random_state=random_state)\n",
    "rnd_forest_model.fit(X_train, y_train)\n",
    "\n",
    "print('best f1-score by Hyperopt: {}'.format(round(metrics.f1_score(y_test, rnd_forest_model.predict(X_test)), 2)))"
   ]
  },
  {
   "cell_type": "markdown",
   "metadata": {},
   "source": [
    "Для RandomForestClassifier Hyperopt не показал улучшения метрики и, вдобавок, модель обрабатывалась дольше, чем при использовании \"сеток\"."
   ]
  },
  {
   "cell_type": "code",
   "execution_count": 38,
   "metadata": {},
   "outputs": [
    {
     "data": {
      "text/plain": [
       "array([<Axes: >, <Axes: >, <Axes: >, <Axes: >], dtype=object)"
      ]
     },
     "execution_count": 38,
     "metadata": {},
     "output_type": "execute_result"
    },
    {
     "data": {
      "image/png": "[encoded data removed]",
      "text/plain": [
       "<Figure size 1000x1000 with 4 Axes>"
      ]
     },
     "metadata": {},
     "output_type": "display_data"
    }
   ],
   "source": [
    "# отрисуем, как менялась точность при различных гиперпараметрах\n",
    "tpe_results=np.array([[x['result']['loss'],\n",
    "                      x['misc']['vals']['max_depth'][0],\n",
    "                      x['misc']['vals']['n_estimators'][0],\n",
    "                      x['misc']['vals']['min_samples_leaf'][0]] for x in trials.trials])\n",
    "\n",
    "tpe_results_df=pd.DataFrame(tpe_results,\n",
    "                           columns=['score', 'max_depth', 'n_estimators', 'min_samples_leaf'])\n",
    "# тепловая карта в данном случае не очень наглядна, возьмем линейный график\n",
    "tpe_results_df.plot(subplots=True,figsize=(10, 10))"
   ]
  },
  {
   "cell_type": "markdown",
   "metadata": {},
   "source": [
    "# Optuna"
   ]
  },
  {
   "cell_type": "code",
   "execution_count": 39,
   "metadata": {},
   "outputs": [],
   "source": [
    "import optuna"
   ]
  },
  {
   "cell_type": "markdown",
   "metadata": {},
   "source": [
    "<span style=\"font-size:28px\">Logistic Regression</span>"
   ]
  },
  {
   "cell_type": "code",
   "execution_count": 91,
   "metadata": {},
   "outputs": [
    {
     "name": "stderr",
     "output_type": "stream",
     "text": [
      "[I 2024-08-10 21:20:10,150] A new study created in memory with name: LogisticRegression\n",
      "[I 2024-08-10 21:20:13,456] Trial 0 finished with value: 0.7705314009661836 and parameters: {'penalty': 'l2', 'C': 0.8, 'solver': 'sag'}. Best is trial 0 with value: 0.7705314009661836.\n",
      "[I 2024-08-10 21:20:13,458] Trial 1 finished with value: -inf and parameters: {'penalty': 'l1', 'C': 0.7, 'solver': 'newton-cholesky'}. Best is trial 0 with value: 0.7705314009661836.\n",
      "[I 2024-08-10 21:20:13,882] Trial 2 finished with value: 0.7783132530120482 and parameters: {'penalty': 'l2', 'C': 0.9, 'solver': 'liblinear'}. Best is trial 2 with value: 0.7783132530120482.\n",
      "[I 2024-08-10 21:20:14,890] Trial 3 finished with value: 0.7857142857142857 and parameters: {'penalty': 'l2', 'C': 0.1, 'solver': 'newton-cholesky'}. Best is trial 3 with value: 0.7857142857142857.\n",
      "[I 2024-08-10 21:20:18,530] Trial 4 finished with value: 0.781136638452237 and parameters: {'penalty': 'l2', 'C': 0.4, 'solver': 'saga'}. Best is trial 3 with value: 0.7857142857142857.\n",
      "[I 2024-08-10 21:20:21,849] Trial 5 finished with value: 0.7705314009661836 and parameters: {'penalty': 'l2', 'C': 0.8, 'solver': 'sag'}. Best is trial 3 with value: 0.7857142857142857.\n",
      "[I 2024-08-10 21:20:22,170] Trial 6 finished with value: 0.7871581450653984 and parameters: {'penalty': 'l2', 'C': 0.1, 'solver': 'liblinear'}. Best is trial 6 with value: 0.7871581450653984.\n",
      "[I 2024-08-10 21:20:22,172] Trial 7 finished with value: -inf and parameters: {'penalty': 'l1', 'C': 0.4, 'solver': 'newton-cholesky'}. Best is trial 6 with value: 0.7871581450653984.\n",
      "[I 2024-08-10 21:20:22,762] Trial 8 finished with value: 0.7783132530120482 and parameters: {'penalty': 'l2', 'C': 1.0, 'solver': 'liblinear'}. Best is trial 6 with value: 0.7871581450653984.\n",
      "[I 2024-08-10 21:20:24,011] Trial 9 finished with value: 0.7773766546329723 and parameters: {'penalty': 'l2', 'C': 1.0, 'solver': 'newton-cholesky'}. Best is trial 6 with value: 0.7871581450653984.\n",
      "[I 2024-08-10 21:20:24,155] Trial 10 finished with value: 0.7703180212014135 and parameters: {'penalty': 'l1', 'C': 0.1, 'solver': 'liblinear'}. Best is trial 6 with value: 0.7871581450653984.\n",
      "[I 2024-08-10 21:20:27,811] Trial 11 finished with value: 0.7857142857142857 and parameters: {'penalty': 'l2', 'C': 0.1, 'solver': 'saga'}. Best is trial 6 with value: 0.7871581450653984.\n",
      "[I 2024-08-10 21:20:28,807] Trial 12 finished with value: 0.7857142857142857 and parameters: {'penalty': 'l2', 'C': 0.1, 'solver': 'newton-cholesky'}. Best is trial 6 with value: 0.7871581450653984.\n",
      "[I 2024-08-10 21:20:29,256] Trial 13 finished with value: 0.7744270205066345 and parameters: {'penalty': 'l2', 'C': 0.6, 'solver': 'liblinear'}. Best is trial 6 with value: 0.7871581450653984.\n",
      "[I 2024-08-10 21:20:29,532] Trial 14 finished with value: 0.7760479041916167 and parameters: {'penalty': 'l1', 'C': 0.5, 'solver': 'liblinear'}. Best is trial 6 with value: 0.7871581450653984.\n",
      "[I 2024-08-10 21:20:30,813] Trial 15 finished with value: 0.781664656212304 and parameters: {'penalty': 'l2', 'C': 0.2, 'solver': 'newton-cholesky'}. Best is trial 6 with value: 0.7871581450653984.\n",
      "[I 2024-08-10 21:20:34,452] Trial 16 finished with value: 0.7807228915662651 and parameters: {'penalty': 'l2', 'C': 0.3, 'solver': 'saga'}. Best is trial 6 with value: 0.7871581450653984.\n",
      "[I 2024-08-10 21:20:37,753] Trial 17 finished with value: 0.7857142857142857 and parameters: {'penalty': 'l2', 'C': 0.1, 'solver': 'sag'}. Best is trial 6 with value: 0.7871581450653984.\n",
      "[I 2024-08-10 21:20:37,896] Trial 18 finished with value: 0.7703180212014135 and parameters: {'penalty': 'l1', 'C': 0.1, 'solver': 'liblinear'}. Best is trial 6 with value: 0.7871581450653984.\n",
      "[I 2024-08-10 21:20:39,227] Trial 19 finished with value: 0.781136638452237 and parameters: {'penalty': 'l2', 'C': 0.3, 'solver': 'newton-cholesky'}. Best is trial 6 with value: 0.7871581450653984.\n",
      "[I 2024-08-10 21:20:39,834] Trial 20 finished with value: 0.7714631197097944 and parameters: {'penalty': 'l2', 'C': 0.5, 'solver': 'liblinear'}. Best is trial 6 with value: 0.7871581450653984.\n",
      "[I 2024-08-10 21:20:43,946] Trial 21 finished with value: 0.7857142857142857 and parameters: {'penalty': 'l2', 'C': 0.1, 'solver': 'saga'}. Best is trial 6 with value: 0.7871581450653984.\n",
      "[I 2024-08-10 21:20:47,653] Trial 22 finished with value: 0.7857142857142857 and parameters: {'penalty': 'l2', 'C': 0.1, 'solver': 'saga'}. Best is trial 6 with value: 0.7871581450653984.\n",
      "[I 2024-08-10 21:20:51,298] Trial 23 finished with value: 0.7857142857142857 and parameters: {'penalty': 'l2', 'C': 0.1, 'solver': 'saga'}. Best is trial 6 with value: 0.7871581450653984.\n",
      "[I 2024-08-10 21:20:55,124] Trial 24 finished with value: 0.7768395657418576 and parameters: {'penalty': 'l2', 'C': 0.7, 'solver': 'saga'}. Best is trial 6 with value: 0.7871581450653984.\n"
     ]
    }
   ],
   "source": [
    "# Напишем функцию, которая будет возвращать f1 метрику для подбора лучших гиперпараметров через Optuna\n",
    "def optuna_func(obj):\n",
    "    try:\n",
    "        penalty = obj.suggest_categorical('penalty', ['l1', 'l2'])\n",
    "        C = obj.suggest_categorical('C', [round(i * 0.1, 1) for i in range(1, 11)])\n",
    "        solver = obj.suggest_categorical('solver', ['liblinear', 'sag', 'newton-cholesky', 'saga'])\n",
    "            \n",
    "        model = linear_model.LogisticRegression(penalty=penalty,\n",
    "                                                    C=C,\n",
    "                                                    solver=solver,\n",
    "                                                    random_state=random_state)\n",
    "        model.fit(X_train, y_train)\n",
    "            \n",
    "        return metrics.f1_score(y_test, model.predict(X_test))\n",
    "    except ValueError:  \n",
    "        \n",
    "        return -float('inf')\n",
    "    \n",
    "\n",
    "# Создаём объект исследования\n",
    "study = optuna.create_study(study_name='LogisticRegression', direction='maximize')\n",
    "study.optimize(optuna_func, n_trials=25)"
   ]
  },
  {
   "cell_type": "code",
   "execution_count": 92,
   "metadata": {},
   "outputs": [
    {
     "data": {
      "application/vnd.plotly.v1+json": {
       "config": {
        "plotlyServerURL": "https://plot.ly"
       },
       "data": [
        {
         "mode": "markers",
         "name": "f1-score",
         "type": "scatter",
         "x": [
          0,
          1,
          2,
          3,
          4,
          5,
          6,
          7,
          8,
          9,
          10,
          11,
          12,
          13,
          14,
          15,
          16,
          17,
          18,
          19,
          20,
          21,
          22,
          23,
          24
         ],
         "y": [
          0.7705314009661836,
          null,
          0.7783132530120482,
          0.7857142857142857,
          0.781136638452237,
          0.7705314009661836,
          0.7871581450653984,
          null,
          0.7783132530120482,
          0.7773766546329723,
          0.7703180212014135,
          0.7857142857142857,
          0.7857142857142857,
          0.7744270205066345,
          0.7760479041916167,
          0.781664656212304,
          0.7807228915662651,
          0.7857142857142857,
          0.7703180212014135,
          0.781136638452237,
          0.7714631197097944,
          0.7857142857142857,
          0.7857142857142857,
          0.7857142857142857,
          0.7768395657418576
         ]
        },
        {
         "mode": "lines",
         "name": "Best Value",
         "type": "scatter",
         "x": [
          0,
          1,
          2,
          3,
          4,
          5,
          6,
          7,
          8,
          9,
          10,
          11,
          12,
          13,
          14,
          15,
          16,
          17,
          18,
          19,
          20,
          21,
          22,
          23,
          24
         ],
         "y": [
          0.7705314009661836,
          0.7705314009661836,
          0.7783132530120482,
          0.7857142857142857,
          0.7857142857142857,
          0.7857142857142857,
          0.7871581450653984,
          0.7871581450653984,
          0.7871581450653984,
          0.7871581450653984,
          0.7871581450653984,
          0.7871581450653984,
          0.7871581450653984,
          0.7871581450653984,
          0.7871581450653984,
          0.7871581450653984,
          0.7871581450653984,
          0.7871581450653984,
          0.7871581450653984,
          0.7871581450653984,
          0.7871581450653984,
          0.7871581450653984,
          0.7871581450653984,
          0.7871581450653984,
          0.7871581450653984
         ]
        },
        {
         "marker": {
          "color": "#cccccc"
         },
         "mode": "markers",
         "name": "Infeasible Trial",
         "showlegend": false,
         "type": "scatter",
         "x": [],
         "y": []
        }
       ],
       "layout": {
        "template": {
         "data": {
          "bar": [
           {
            "error_x": {
             "color": "#2a3f5f"
            },
            "error_y": {
             "color": "#2a3f5f"
            },
            "marker": {
             "line": {
              "color": "#E5ECF6",
              "width": 0.5
             },
             "pattern": {
              "fillmode": "overlay",
              "size": 10,
              "solidity": 0.2
             }
            },
            "type": "bar"
           }
          ],
          "barpolar": [
           {
            "marker": {
             "line": {
              "color": "#E5ECF6",
              "width": 0.5
             },
             "pattern": {
              "fillmode": "overlay",
              "size": 10,
              "solidity": 0.2
             }
            },
            "type": "barpolar"
           }
          ],
          "carpet": [
           {
            "aaxis": {
             "endlinecolor": "#2a3f5f",
             "gridcolor": "white",
             "linecolor": "white",
             "minorgridcolor": "white",
             "startlinecolor": "#2a3f5f"
            },
            "baxis": {
             "endlinecolor": "#2a3f5f",
             "gridcolor": "white",
             "linecolor": "white",
             "minorgridcolor": "white",
             "startlinecolor": "#2a3f5f"
            },
            "type": "carpet"
           }
          ],
          "choropleth": [
           {
            "colorbar": {
             "outlinewidth": 0,
             "ticks": ""
            },
            "type": "choropleth"
           }
          ],
          "contour": [
           {
            "colorbar": {
             "outlinewidth": 0,
             "ticks": ""
            },
            "colorscale": [
             [
              0,
              "#0d0887"
             ],
             [
              0.1111111111111111,
              "#46039f"
             ],
             [
              0.2222222222222222,
              "#7201a8"
             ],
             [
              0.3333333333333333,
              "#9c179e"
             ],
             [
              0.4444444444444444,
              "#bd3786"
             ],
             [
              0.5555555555555556,
              "#d8576b"
             ],
             [
              0.6666666666666666,
              "#ed7953"
             ],
             [
              0.7777777777777778,
              "#fb9f3a"
             ],
             [
              0.8888888888888888,
              "#fdca26"
             ],
             [
              1,
              "#f0f921"
             ]
            ],
            "type": "contour"
           }
          ],
          "contourcarpet": [
           {
            "colorbar": {
             "outlinewidth": 0,
             "ticks": ""
            },
            "type": "contourcarpet"
           }
          ],
          "heatmap": [
           {
            "colorbar": {
             "outlinewidth": 0,
             "ticks": ""
            },
            "colorscale": [
             [
              0,
              "#0d0887"
             ],
             [
              0.1111111111111111,
              "#46039f"
             ],
             [
              0.2222222222222222,
              "#7201a8"
             ],
             [
              0.3333333333333333,
              "#9c179e"
             ],
             [
              0.4444444444444444,
              "#bd3786"
             ],
             [
              0.5555555555555556,
              "#d8576b"
             ],
             [
              0.6666666666666666,
              "#ed7953"
             ],
             [
              0.7777777777777778,
              "#fb9f3a"
             ],
             [
              0.8888888888888888,
              "#fdca26"
             ],
             [
              1,
              "#f0f921"
             ]
            ],
            "type": "heatmap"
           }
          ],
          "heatmapgl": [
           {
            "colorbar": {
             "outlinewidth": 0,
             "ticks": ""
            },
            "colorscale": [
             [
              0,
              "#0d0887"
             ],
             [
              0.1111111111111111,
              "#46039f"
             ],
             [
              0.2222222222222222,
              "#7201a8"
             ],
             [
              0.3333333333333333,
              "#9c179e"
             ],
             [
              0.4444444444444444,
              "#bd3786"
             ],
             [
              0.5555555555555556,
              "#d8576b"
             ],
             [
              0.6666666666666666,
              "#ed7953"
             ],
             [
              0.7777777777777778,
              "#fb9f3a"
             ],
             [
              0.8888888888888888,
              "#fdca26"
             ],
             [
              1,
              "#f0f921"
             ]
            ],
            "type": "heatmapgl"
           }
          ],
          "histogram": [
           {
            "marker": {
             "pattern": {
              "fillmode": "overlay",
              "size": 10,
              "solidity": 0.2
             }
            },
            "type": "histogram"
           }
          ],
          "histogram2d": [
           {
            "colorbar": {
             "outlinewidth": 0,
             "ticks": ""
            },
            "colorscale": [
             [
              0,
              "#0d0887"
             ],
             [
              0.1111111111111111,
              "#46039f"
             ],
             [
              0.2222222222222222,
              "#7201a8"
             ],
             [
              0.3333333333333333,
              "#9c179e"
             ],
             [
              0.4444444444444444,
              "#bd3786"
             ],
             [
              0.5555555555555556,
              "#d8576b"
             ],
             [
              0.6666666666666666,
              "#ed7953"
             ],
             [
              0.7777777777777778,
              "#fb9f3a"
             ],
             [
              0.8888888888888888,
              "#fdca26"
             ],
             [
              1,
              "#f0f921"
             ]
            ],
            "type": "histogram2d"
           }
          ],
          "histogram2dcontour": [
           {
            "colorbar": {
             "outlinewidth": 0,
             "ticks": ""
            },
            "colorscale": [
             [
              0,
              "#0d0887"
             ],
             [
              0.1111111111111111,
              "#46039f"
             ],
             [
              0.2222222222222222,
              "#7201a8"
             ],
             [
              0.3333333333333333,
              "#9c179e"
             ],
             [
              0.4444444444444444,
              "#bd3786"
             ],
             [
              0.5555555555555556,
              "#d8576b"
             ],
             [
              0.6666666666666666,
              "#ed7953"
             ],
             [
              0.7777777777777778,
              "#fb9f3a"
             ],
             [
              0.8888888888888888,
              "#fdca26"
             ],
             [
              1,
              "#f0f921"
             ]
            ],
            "type": "histogram2dcontour"
           }
          ],
          "mesh3d": [
           {
            "colorbar": {
             "outlinewidth": 0,
             "ticks": ""
            },
            "type": "mesh3d"
           }
          ],
          "parcoords": [
           {
            "line": {
             "colorbar": {
              "outlinewidth": 0,
              "ticks": ""
             }
            },
            "type": "parcoords"
           }
          ],
          "pie": [
           {
            "automargin": true,
            "type": "pie"
           }
          ],
          "scatter": [
           {
            "fillpattern": {
             "fillmode": "overlay",
             "size": 10,
             "solidity": 0.2
            },
            "type": "scatter"
           }
          ],
          "scatter3d": [
           {
            "line": {
             "colorbar": {
              "outlinewidth": 0,
              "ticks": ""
             }
            },
            "marker": {
             "colorbar": {
              "outlinewidth": 0,
              "ticks": ""
             }
            },
            "type": "scatter3d"
           }
          ],
          "scattercarpet": [
           {
            "marker": {
             "colorbar": {
              "outlinewidth": 0,
              "ticks": ""
             }
            },
            "type": "scattercarpet"
           }
          ],
          "scattergeo": [
           {
            "marker": {
             "colorbar": {
              "outlinewidth": 0,
              "ticks": ""
             }
            },
            "type": "scattergeo"
           }
          ],
          "scattergl": [
           {
            "marker": {
             "colorbar": {
              "outlinewidth": 0,
              "ticks": ""
             }
            },
            "type": "scattergl"
           }
          ],
          "scattermapbox": [
           {
            "marker": {
             "colorbar": {
              "outlinewidth": 0,
              "ticks": ""
             }
            },
            "type": "scattermapbox"
           }
          ],
          "scatterpolar": [
           {
            "marker": {
             "colorbar": {
              "outlinewidth": 0,
              "ticks": ""
             }
            },
            "type": "scatterpolar"
           }
          ],
          "scatterpolargl": [
           {
            "marker": {
             "colorbar": {
              "outlinewidth": 0,
              "ticks": ""
             }
            },
            "type": "scatterpolargl"
           }
          ],
          "scatterternary": [
           {
            "marker": {
             "colorbar": {
              "outlinewidth": 0,
              "ticks": ""
             }
            },
            "type": "scatterternary"
           }
          ],
          "surface": [
           {
            "colorbar": {
             "outlinewidth": 0,
             "ticks": ""
            },
            "colorscale": [
             [
              0,
              "#0d0887"
             ],
             [
              0.1111111111111111,
              "#46039f"
             ],
             [
              0.2222222222222222,
              "#7201a8"
             ],
             [
              0.3333333333333333,
              "#9c179e"
             ],
             [
              0.4444444444444444,
              "#bd3786"
             ],
             [
              0.5555555555555556,
              "#d8576b"
             ],
             [
              0.6666666666666666,
              "#ed7953"
             ],
             [
              0.7777777777777778,
              "#fb9f3a"
             ],
             [
              0.8888888888888888,
              "#fdca26"
             ],
             [
              1,
              "#f0f921"
             ]
            ],
            "type": "surface"
           }
          ],
          "table": [
           {
            "cells": {
             "fill": {
              "color": "#EBF0F8"
             },
             "line": {
              "color": "white"
             }
            },
            "header": {
             "fill": {
              "color": "#C8D4E3"
             },
             "line": {
              "color": "white"
             }
            },
            "type": "table"
           }
          ]
         },
         "layout": {
          "annotationdefaults": {
           "arrowcolor": "#2a3f5f",
           "arrowhead": 0,
           "arrowwidth": 1
          },
          "autotypenumbers": "strict",
          "coloraxis": {
           "colorbar": {
            "outlinewidth": 0,
            "ticks": ""
           }
          },
          "colorscale": {
           "diverging": [
            [
             0,
             "#8e0152"
            ],
            [
             0.1,
             "#c51b7d"
            ],
            [
             0.2,
             "#de77ae"
            ],
            [
             0.3,
             "#f1b6da"
            ],
            [
             0.4,
             "#fde0ef"
            ],
            [
             0.5,
             "#f7f7f7"
            ],
            [
             0.6,
             "#e6f5d0"
            ],
            [
             0.7,
             "#b8e186"
            ],
            [
             0.8,
             "#7fbc41"
            ],
            [
             0.9,
             "#4d9221"
            ],
            [
             1,
             "#276419"
            ]
           ],
           "sequential": [
            [
             0,
             "#0d0887"
            ],
            [
             0.1111111111111111,
             "#46039f"
            ],
            [
             0.2222222222222222,
             "#7201a8"
            ],
            [
             0.3333333333333333,
             "#9c179e"
            ],
            [
             0.4444444444444444,
             "#bd3786"
            ],
            [
             0.5555555555555556,
             "#d8576b"
            ],
            [
             0.6666666666666666,
             "#ed7953"
            ],
            [
             0.7777777777777778,
             "#fb9f3a"
            ],
            [
             0.8888888888888888,
             "#fdca26"
            ],
            [
             1,
             "#f0f921"
            ]
           ],
           "sequentialminus": [
            [
             0,
             "#0d0887"
            ],
            [
             0.1111111111111111,
             "#46039f"
            ],
            [
             0.2222222222222222,
             "#7201a8"
            ],
            [
             0.3333333333333333,
             "#9c179e"
            ],
            [
             0.4444444444444444,
             "#bd3786"
            ],
            [
             0.5555555555555556,
             "#d8576b"
            ],
            [
             0.6666666666666666,
             "#ed7953"
            ],
            [
             0.7777777777777778,
             "#fb9f3a"
            ],
            [
             0.8888888888888888,
             "#fdca26"
            ],
            [
             1,
             "#f0f921"
            ]
           ]
          },
          "colorway": [
           "#636efa",
           "#EF553B",
           "#00cc96",
           "#ab63fa",
           "#FFA15A",
           "#19d3f3",
           "#FF6692",
           "#B6E880",
           "#FF97FF",
           "#FECB52"
          ],
          "font": {
           "color": "#2a3f5f"
          },
          "geo": {
           "bgcolor": "white",
           "lakecolor": "white",
           "landcolor": "#E5ECF6",
           "showlakes": true,
           "showland": true,
           "subunitcolor": "white"
          },
          "hoverlabel": {
           "align": "left"
          },
          "hovermode": "closest",
          "mapbox": {
           "style": "light"
          },
          "paper_bgcolor": "white",
          "plot_bgcolor": "#E5ECF6",
          "polar": {
           "angularaxis": {
            "gridcolor": "white",
            "linecolor": "white",
            "ticks": ""
           },
           "bgcolor": "#E5ECF6",
           "radialaxis": {
            "gridcolor": "white",
            "linecolor": "white",
            "ticks": ""
           }
          },
          "scene": {
           "xaxis": {
            "backgroundcolor": "#E5ECF6",
            "gridcolor": "white",
            "gridwidth": 2,
            "linecolor": "white",
            "showbackground": true,
            "ticks": "",
            "zerolinecolor": "white"
           },
           "yaxis": {
            "backgroundcolor": "#E5ECF6",
            "gridcolor": "white",
            "gridwidth": 2,
            "linecolor": "white",
            "showbackground": true,
            "ticks": "",
            "zerolinecolor": "white"
           },
           "zaxis": {
            "backgroundcolor": "#E5ECF6",
            "gridcolor": "white",
            "gridwidth": 2,
            "linecolor": "white",
            "showbackground": true,
            "ticks": "",
            "zerolinecolor": "white"
           }
          },
          "shapedefaults": {
           "line": {
            "color": "#2a3f5f"
           }
          },
          "ternary": {
           "aaxis": {
            "gridcolor": "white",
            "linecolor": "white",
            "ticks": ""
           },
           "baxis": {
            "gridcolor": "white",
            "linecolor": "white",
            "ticks": ""
           },
           "bgcolor": "#E5ECF6",
           "caxis": {
            "gridcolor": "white",
            "linecolor": "white",
            "ticks": ""
           }
          },
          "title": {
           "x": 0.05
          },
          "xaxis": {
           "automargin": true,
           "gridcolor": "white",
           "linecolor": "white",
           "ticks": "",
           "title": {
            "standoff": 15
           },
           "zerolinecolor": "white",
           "zerolinewidth": 2
          },
          "yaxis": {
           "automargin": true,
           "gridcolor": "white",
           "linecolor": "white",
           "ticks": "",
           "title": {
            "standoff": 15
           },
           "zerolinecolor": "white",
           "zerolinewidth": 2
          }
         }
        },
        "title": {
         "text": "Optimization History Plot"
        },
        "xaxis": {
         "title": {
          "text": "Trial"
         }
        },
        "yaxis": {
         "title": {
          "text": "f1-score"
         }
        }
       }
      }
     },
     "metadata": {},
     "output_type": "display_data"
    }
   ],
   "source": [
    "optuna.visualization.plot_optimization_history(study, target_name='f1-score')"
   ]
  },
  {
   "cell_type": "code",
   "execution_count": 93,
   "metadata": {},
   "outputs": [
    {
     "name": "stdout",
     "output_type": "stream",
     "text": [
      "best f1-score by Optuna: 0.79\n"
     ]
    }
   ],
   "source": [
    "log_reg_model = linear_model.LogisticRegression(**study.best_params, random_state=random_state, max_iter=1000)\n",
    "log_reg_model.fit(X_train, y_train)\n",
    "print('best f1-score by Optuna: {}'.format(round(metrics.f1_score(y_test, log_reg_model.predict(X_test)), 2)))"
   ]
  },
  {
   "cell_type": "markdown",
   "metadata": {},
   "source": [
    "Optuna отлично справился с задачей, показав лучшую метрику (как и Hyperopt) и выполнил задачу быстрее всех."
   ]
  },
  {
   "cell_type": "markdown",
   "metadata": {},
   "source": [
    "---"
   ]
  },
  {
   "cell_type": "markdown",
   "metadata": {},
   "source": [
    "<span style='font-size:28px'>Random Forest Classifier</span>"
   ]
  },
  {
   "cell_type": "code",
   "execution_count": 100,
   "metadata": {},
   "outputs": [
    {
     "name": "stderr",
     "output_type": "stream",
     "text": [
      "[I 2024-08-10 21:31:21,862] A new study created in memory with name: RandomForestClassifier\n"
     ]
    },
    {
     "name": "stderr",
     "output_type": "stream",
     "text": [
      "[I 2024-08-10 21:31:22,623] Trial 0 finished with value: 0.7404674046740467 and parameters: {'criterion': 'gini', 'n_estimators': 160, 'max_depth': 35, 'min_samples_leaf': 90}. Best is trial 0 with value: 0.7404674046740467.\n",
      "[I 2024-08-10 21:31:22,625] Trial 1 finished with value: -inf and parameters: {'criterion': 'logloss', 'n_estimators': 290, 'max_depth': 45, 'min_samples_leaf': 90}. Best is trial 0 with value: 0.7404674046740467.\n",
      "[I 2024-08-10 21:31:22,627] Trial 2 finished with value: -inf and parameters: {'criterion': 'logloss', 'n_estimators': 250, 'max_depth': 60, 'min_samples_leaf': 50}. Best is trial 0 with value: 0.7404674046740467.\n",
      "[I 2024-08-10 21:31:23,949] Trial 3 finished with value: 0.7800729040097205 and parameters: {'criterion': 'entropy', 'n_estimators': 150, 'max_depth': 45, 'min_samples_leaf': 20}. Best is trial 3 with value: 0.7800729040097205.\n",
      "[I 2024-08-10 21:31:23,951] Trial 4 finished with value: -inf and parameters: {'criterion': 'logloss', 'n_estimators': 240, 'max_depth': 70, 'min_samples_leaf': 5}. Best is trial 3 with value: 0.7800729040097205.\n",
      "[I 2024-08-10 21:31:25,310] Trial 5 finished with value: 0.7753623188405797 and parameters: {'criterion': 'entropy', 'n_estimators': 170, 'max_depth': 40, 'min_samples_leaf': 25}. Best is trial 3 with value: 0.7800729040097205.\n",
      "[I 2024-08-10 21:31:25,312] Trial 6 finished with value: -inf and parameters: {'criterion': 'logloss', 'n_estimators': 110, 'max_depth': 45, 'min_samples_leaf': 55}. Best is trial 3 with value: 0.7800729040097205.\n",
      "[I 2024-08-10 21:31:25,315] Trial 7 finished with value: -inf and parameters: {'criterion': 'logloss', 'n_estimators': 250, 'max_depth': 30, 'min_samples_leaf': 45}. Best is trial 3 with value: 0.7800729040097205.\n",
      "[I 2024-08-10 21:31:26,452] Trial 8 finished with value: 0.7401960784313726 and parameters: {'criterion': 'gini', 'n_estimators': 230, 'max_depth': 25, 'min_samples_leaf': 70}. Best is trial 3 with value: 0.7800729040097205.\n",
      "[I 2024-08-10 21:31:27,301] Trial 9 finished with value: 0.7365853658536585 and parameters: {'criterion': 'entropy', 'n_estimators': 200, 'max_depth': 5, 'min_samples_leaf': 95}. Best is trial 3 with value: 0.7800729040097205.\n",
      "[I 2024-08-10 21:31:28,362] Trial 10 finished with value: 0.7917174177831913 and parameters: {'criterion': 'entropy', 'n_estimators': 100, 'max_depth': 15, 'min_samples_leaf': 10}. Best is trial 10 with value: 0.7917174177831913.\n",
      "[I 2024-08-10 21:31:29,410] Trial 11 finished with value: 0.7965895249695494 and parameters: {'criterion': 'entropy', 'n_estimators': 100, 'max_depth': 10, 'min_samples_leaf': 5}. Best is trial 11 with value: 0.7965895249695494.\n",
      "[I 2024-08-10 21:31:30,013] Trial 12 finished with value: 0.75 and parameters: {'criterion': 'entropy', 'n_estimators': 100, 'max_depth': 5, 'min_samples_leaf': 5}. Best is trial 11 with value: 0.7965895249695494.\n",
      "[I 2024-08-10 21:31:31,087] Trial 13 finished with value: 0.7762998790810157 and parameters: {'criterion': 'entropy', 'n_estimators': 130, 'max_depth': 15, 'min_samples_leaf': 25}. Best is trial 11 with value: 0.7965895249695494.\n",
      "[I 2024-08-10 21:31:32,005] Trial 14 finished with value: 0.7566909975669099 and parameters: {'criterion': 'entropy', 'n_estimators': 120, 'max_depth': 20, 'min_samples_leaf': 35}. Best is trial 11 with value: 0.7965895249695494.\n",
      "[I 2024-08-10 21:31:33,967] Trial 15 finished with value: 0.7926829268292683 and parameters: {'criterion': 'entropy', 'n_estimators': 190, 'max_depth': 15, 'min_samples_leaf': 10}. Best is trial 11 with value: 0.7965895249695494.\n",
      "[I 2024-08-10 21:31:35,628] Trial 16 finished with value: 0.7834549878345499 and parameters: {'criterion': 'entropy', 'n_estimators': 190, 'max_depth': 10, 'min_samples_leaf': 15}. Best is trial 11 with value: 0.7965895249695494.\n",
      "[I 2024-08-10 21:31:37,495] Trial 17 finished with value: 0.7683073229291717 and parameters: {'criterion': 'gini', 'n_estimators': 280, 'max_depth': 25, 'min_samples_leaf': 35}. Best is trial 11 with value: 0.7965895249695494.\n",
      "[I 2024-08-10 21:31:38,572] Trial 18 finished with value: 0.7392900856793145 and parameters: {'criterion': 'entropy', 'n_estimators': 210, 'max_depth': 15, 'min_samples_leaf': 70}. Best is trial 11 with value: 0.7965895249695494.\n",
      "[I 2024-08-10 21:31:39,347] Trial 19 finished with value: 0.7272727272727273 and parameters: {'criterion': 'entropy', 'n_estimators': 140, 'max_depth': 5, 'min_samples_leaf': 35}. Best is trial 11 with value: 0.7965895249695494.\n",
      "[I 2024-08-10 21:31:40,885] Trial 20 finished with value: 0.7860576923076923 and parameters: {'criterion': 'gini', 'n_estimators': 180, 'max_depth': 25, 'min_samples_leaf': 15}. Best is trial 11 with value: 0.7965895249695494.\n",
      "[I 2024-08-10 21:31:42,369] Trial 21 finished with value: 0.7946859903381642 and parameters: {'criterion': 'entropy', 'n_estimators': 100, 'max_depth': 15, 'min_samples_leaf': 5}. Best is trial 11 with value: 0.7965895249695494.\n",
      "[I 2024-08-10 21:31:44,211] Trial 22 finished with value: 0.7912621359223301 and parameters: {'criterion': 'entropy', 'n_estimators': 130, 'max_depth': 15, 'min_samples_leaf': 5}. Best is trial 11 with value: 0.7965895249695494.\n",
      "[I 2024-08-10 21:31:45,471] Trial 23 finished with value: 0.7723970944309927 and parameters: {'criterion': 'entropy', 'n_estimators': 150, 'max_depth': 10, 'min_samples_leaf': 25}. Best is trial 11 with value: 0.7965895249695494.\n",
      "[I 2024-08-10 21:31:46,812] Trial 24 finished with value: 0.7849331713244229 and parameters: {'criterion': 'entropy', 'n_estimators': 120, 'max_depth': 20, 'min_samples_leaf': 15}. Best is trial 11 with value: 0.7965895249695494.\n",
      "[I 2024-08-10 21:31:49,106] Trial 25 finished with value: 0.7921760391198044 and parameters: {'criterion': 'entropy', 'n_estimators': 220, 'max_depth': 10, 'min_samples_leaf': 5}. Best is trial 11 with value: 0.7965895249695494.\n",
      "[I 2024-08-10 21:31:50,112] Trial 26 finished with value: 0.7883211678832117 and parameters: {'criterion': 'entropy', 'n_estimators': 100, 'max_depth': 35, 'min_samples_leaf': 15}. Best is trial 11 with value: 0.7965895249695494.\n",
      "[I 2024-08-10 21:31:52,137] Trial 27 finished with value: 0.774818401937046 and parameters: {'criterion': 'entropy', 'n_estimators': 270, 'max_depth': 20, 'min_samples_leaf': 30}. Best is trial 11 with value: 0.7965895249695494.\n",
      "[I 2024-08-10 21:31:53,844] Trial 28 finished with value: 0.7840772014475271 and parameters: {'criterion': 'gini', 'n_estimators': 170, 'max_depth': 30, 'min_samples_leaf': 10}. Best is trial 11 with value: 0.7965895249695494.\n",
      "[I 2024-08-10 21:31:54,776] Trial 29 finished with value: 0.7422934648581998 and parameters: {'criterion': 'entropy', 'n_estimators': 160, 'max_depth': 10, 'min_samples_leaf': 65}. Best is trial 11 with value: 0.7965895249695494.\n",
      "[I 2024-08-10 21:31:55,436] Trial 30 finished with value: 0.7360594795539034 and parameters: {'criterion': 'gini', 'n_estimators': 130, 'max_depth': 55, 'min_samples_leaf': 85}. Best is trial 11 with value: 0.7965895249695494.\n",
      "[I 2024-08-10 21:31:57,789] Trial 31 finished with value: 0.7921760391198044 and parameters: {'criterion': 'entropy', 'n_estimators': 220, 'max_depth': 10, 'min_samples_leaf': 5}. Best is trial 11 with value: 0.7965895249695494.\n",
      "[I 2024-08-10 21:31:59,482] Trial 32 finished with value: 0.7338308457711443 and parameters: {'criterion': 'entropy', 'n_estimators': 300, 'max_depth': 5, 'min_samples_leaf': 10}. Best is trial 11 with value: 0.7965895249695494.\n",
      "[I 2024-08-10 21:32:02,155] Trial 33 finished with value: 0.7975903614457831 and parameters: {'criterion': 'entropy', 'n_estimators': 200, 'max_depth': 20, 'min_samples_leaf': 5}. Best is trial 33 with value: 0.7975903614457831.\n",
      "[I 2024-08-10 21:32:03,854] Trial 34 finished with value: 0.7757575757575758 and parameters: {'criterion': 'entropy', 'n_estimators': 190, 'max_depth': 20, 'min_samples_leaf': 20}. Best is trial 33 with value: 0.7975903614457831.\n"
     ]
    }
   ],
   "source": [
    "# Напишем функцию, которая будет возвращать f1 метрику для подбора лучших гиперпараметров через Optuna\n",
    "def optuna_func(obj):\n",
    "    try:\n",
    "        criterion = obj.suggest_categorical('criterion', ['gini', 'entropy', 'logloss'])\n",
    "        n_estimators = obj.suggest_int('n_estimators', 100, 300, 10)\n",
    "        max_depth = obj.suggest_int('max_depth', 5, 70, 5)\n",
    "        min_samples_leaf = obj.suggest_int('min_samples_leaf', 5, 100, 5)\n",
    "            \n",
    "        model = ensemble.RandomForestClassifier(criterion=criterion,\n",
    "                                                n_estimators=n_estimators,\n",
    "                                                max_depth=max_depth,\n",
    "                                                min_samples_leaf=min_samples_leaf,\n",
    "                                                random_state=random_state)\n",
    "        model.fit(X_train, y_train)\n",
    "            \n",
    "        return metrics.f1_score(y_test, model.predict(X_test))\n",
    "    except ValueError:  \n",
    "        \n",
    "        return -float('inf')\n",
    "    \n",
    "\n",
    "# Создаём объект исследования\n",
    "study = optuna.create_study(study_name='RandomForestClassifier', direction='maximize')\n",
    "study.optimize(optuna_func, n_trials=35)"
   ]
  },
  {
   "cell_type": "code",
   "execution_count": 101,
   "metadata": {},
   "outputs": [
    {
     "data": {
      "application/vnd.plotly.v1+json": {
       "config": {
        "plotlyServerURL": "https://plot.ly"
       },
       "data": [
        {
         "mode": "markers",
         "name": "f1-score",
         "type": "scatter",
         "x": [
          0,
          1,
          2,
          3,
          4,
          5,
          6,
          7,
          8,
          9,
          10,
          11,
          12,
          13,
          14,
          15,
          16,
          17,
          18,
          19,
          20,
          21,
          22,
          23,
          24,
          25,
          26,
          27,
          28,
          29,
          30,
          31,
          32,
          33,
          34
         ],
         "y": [
          0.7404674046740467,
          null,
          null,
          0.7800729040097205,
          null,
          0.7753623188405797,
          null,
          null,
          0.7401960784313726,
          0.7365853658536585,
          0.7917174177831913,
          0.7965895249695494,
          0.75,
          0.7762998790810157,
          0.7566909975669099,
          0.7926829268292683,
          0.7834549878345499,
          0.7683073229291717,
          0.7392900856793145,
          0.7272727272727273,
          0.7860576923076923,
          0.7946859903381642,
          0.7912621359223301,
          0.7723970944309927,
          0.7849331713244229,
          0.7921760391198044,
          0.7883211678832117,
          0.774818401937046,
          0.7840772014475271,
          0.7422934648581998,
          0.7360594795539034,
          0.7921760391198044,
          0.7338308457711443,
          0.7975903614457831,
          0.7757575757575758
         ]
        },
        {
         "mode": "lines",
         "name": "Best Value",
         "type": "scatter",
         "x": [
          0,
          1,
          2,
          3,
          4,
          5,
          6,
          7,
          8,
          9,
          10,
          11,
          12,
          13,
          14,
          15,
          16,
          17,
          18,
          19,
          20,
          21,
          22,
          23,
          24,
          25,
          26,
          27,
          28,
          29,
          30,
          31,
          32,
          33,
          34
         ],
         "y": [
          0.7404674046740467,
          0.7404674046740467,
          0.7404674046740467,
          0.7800729040097205,
          0.7800729040097205,
          0.7800729040097205,
          0.7800729040097205,
          0.7800729040097205,
          0.7800729040097205,
          0.7800729040097205,
          0.7917174177831913,
          0.7965895249695494,
          0.7965895249695494,
          0.7965895249695494,
          0.7965895249695494,
          0.7965895249695494,
          0.7965895249695494,
          0.7965895249695494,
          0.7965895249695494,
          0.7965895249695494,
          0.7965895249695494,
          0.7965895249695494,
          0.7965895249695494,
          0.7965895249695494,
          0.7965895249695494,
          0.7965895249695494,
          0.7965895249695494,
          0.7965895249695494,
          0.7965895249695494,
          0.7965895249695494,
          0.7965895249695494,
          0.7965895249695494,
          0.7965895249695494,
          0.7975903614457831,
          0.7975903614457831
         ]
        },
        {
         "marker": {
          "color": "#cccccc"
         },
         "mode": "markers",
         "name": "Infeasible Trial",
         "showlegend": false,
         "type": "scatter",
         "x": [],
         "y": []
        }
       ],
       "layout": {
        "template": {
         "data": {
          "bar": [
           {
            "error_x": {
             "color": "#2a3f5f"
            },
            "error_y": {
             "color": "#2a3f5f"
            },
            "marker": {
             "line": {
              "color": "#E5ECF6",
              "width": 0.5
             },
             "pattern": {
              "fillmode": "overlay",
              "size": 10,
              "solidity": 0.2
             }
            },
            "type": "bar"
           }
          ],
          "barpolar": [
           {
            "marker": {
             "line": {
              "color": "#E5ECF6",
              "width": 0.5
             },
             "pattern": {
              "fillmode": "overlay",
              "size": 10,
              "solidity": 0.2
             }
            },
            "type": "barpolar"
           }
          ],
          "carpet": [
           {
            "aaxis": {
             "endlinecolor": "#2a3f5f",
             "gridcolor": "white",
             "linecolor": "white",
             "minorgridcolor": "white",
             "startlinecolor": "#2a3f5f"
            },
            "baxis": {
             "endlinecolor": "#2a3f5f",
             "gridcolor": "white",
             "linecolor": "white",
             "minorgridcolor": "white",
             "startlinecolor": "#2a3f5f"
            },
            "type": "carpet"
           }
          ],
          "choropleth": [
           {
            "colorbar": {
             "outlinewidth": 0,
             "ticks": ""
            },
            "type": "choropleth"
           }
          ],
          "contour": [
           {
            "colorbar": {
             "outlinewidth": 0,
             "ticks": ""
            },
            "colorscale": [
             [
              0,
              "#0d0887"
             ],
             [
              0.1111111111111111,
              "#46039f"
             ],
             [
              0.2222222222222222,
              "#7201a8"
             ],
             [
              0.3333333333333333,
              "#9c179e"
             ],
             [
              0.4444444444444444,
              "#bd3786"
             ],
             [
              0.5555555555555556,
              "#d8576b"
             ],
             [
              0.6666666666666666,
              "#ed7953"
             ],
             [
              0.7777777777777778,
              "#fb9f3a"
             ],
             [
              0.8888888888888888,
              "#fdca26"
             ],
             [
              1,
              "#f0f921"
             ]
            ],
            "type": "contour"
           }
          ],
          "contourcarpet": [
           {
            "colorbar": {
             "outlinewidth": 0,
             "ticks": ""
            },
            "type": "contourcarpet"
           }
          ],
          "heatmap": [
           {
            "colorbar": {
             "outlinewidth": 0,
             "ticks": ""
            },
            "colorscale": [
             [
              0,
              "#0d0887"
             ],
             [
              0.1111111111111111,
              "#46039f"
             ],
             [
              0.2222222222222222,
              "#7201a8"
             ],
             [
              0.3333333333333333,
              "#9c179e"
             ],
             [
              0.4444444444444444,
              "#bd3786"
             ],
             [
              0.5555555555555556,
              "#d8576b"
             ],
             [
              0.6666666666666666,
              "#ed7953"
             ],
             [
              0.7777777777777778,
              "#fb9f3a"
             ],
             [
              0.8888888888888888,
              "#fdca26"
             ],
             [
              1,
              "#f0f921"
             ]
            ],
            "type": "heatmap"
           }
          ],
          "heatmapgl": [
           {
            "colorbar": {
             "outlinewidth": 0,
             "ticks": ""
            },
            "colorscale": [
             [
              0,
              "#0d0887"
             ],
             [
              0.1111111111111111,
              "#46039f"
             ],
             [
              0.2222222222222222,
              "#7201a8"
             ],
             [
              0.3333333333333333,
              "#9c179e"
             ],
             [
              0.4444444444444444,
              "#bd3786"
             ],
             [
              0.5555555555555556,
              "#d8576b"
             ],
             [
              0.6666666666666666,
              "#ed7953"
             ],
             [
              0.7777777777777778,
              "#fb9f3a"
             ],
             [
              0.8888888888888888,
              "#fdca26"
             ],
             [
              1,
              "#f0f921"
             ]
            ],
            "type": "heatmapgl"
           }
          ],
          "histogram": [
           {
            "marker": {
             "pattern": {
              "fillmode": "overlay",
              "size": 10,
              "solidity": 0.2
             }
            },
            "type": "histogram"
           }
          ],
          "histogram2d": [
           {
            "colorbar": {
             "outlinewidth": 0,
             "ticks": ""
            },
            "colorscale": [
             [
              0,
              "#0d0887"
             ],
             [
              0.1111111111111111,
              "#46039f"
             ],
             [
              0.2222222222222222,
              "#7201a8"
             ],
             [
              0.3333333333333333,
              "#9c179e"
             ],
             [
              0.4444444444444444,
              "#bd3786"
             ],
             [
              0.5555555555555556,
              "#d8576b"
             ],
             [
              0.6666666666666666,
              "#ed7953"
             ],
             [
              0.7777777777777778,
              "#fb9f3a"
             ],
             [
              0.8888888888888888,
              "#fdca26"
             ],
             [
              1,
              "#f0f921"
             ]
            ],
            "type": "histogram2d"
           }
          ],
          "histogram2dcontour": [
           {
            "colorbar": {
             "outlinewidth": 0,
             "ticks": ""
            },
            "colorscale": [
             [
              0,
              "#0d0887"
             ],
             [
              0.1111111111111111,
              "#46039f"
             ],
             [
              0.2222222222222222,
              "#7201a8"
             ],
             [
              0.3333333333333333,
              "#9c179e"
             ],
             [
              0.4444444444444444,
              "#bd3786"
             ],
             [
              0.5555555555555556,
              "#d8576b"
             ],
             [
              0.6666666666666666,
              "#ed7953"
             ],
             [
              0.7777777777777778,
              "#fb9f3a"
             ],
             [
              0.8888888888888888,
              "#fdca26"
             ],
             [
              1,
              "#f0f921"
             ]
            ],
            "type": "histogram2dcontour"
           }
          ],
          "mesh3d": [
           {
            "colorbar": {
             "outlinewidth": 0,
             "ticks": ""
            },
            "type": "mesh3d"
           }
          ],
          "parcoords": [
           {
            "line": {
             "colorbar": {
              "outlinewidth": 0,
              "ticks": ""
             }
            },
            "type": "parcoords"
           }
          ],
          "pie": [
           {
            "automargin": true,
            "type": "pie"
           }
          ],
          "scatter": [
           {
            "fillpattern": {
             "fillmode": "overlay",
             "size": 10,
             "solidity": 0.2
            },
            "type": "scatter"
           }
          ],
          "scatter3d": [
           {
            "line": {
             "colorbar": {
              "outlinewidth": 0,
              "ticks": ""
             }
            },
            "marker": {
             "colorbar": {
              "outlinewidth": 0,
              "ticks": ""
             }
            },
            "type": "scatter3d"
           }
          ],
          "scattercarpet": [
           {
            "marker": {
             "colorbar": {
              "outlinewidth": 0,
              "ticks": ""
             }
            },
            "type": "scattercarpet"
           }
          ],
          "scattergeo": [
           {
            "marker": {
             "colorbar": {
              "outlinewidth": 0,
              "ticks": ""
             }
            },
            "type": "scattergeo"
           }
          ],
          "scattergl": [
           {
            "marker": {
             "colorbar": {
              "outlinewidth": 0,
              "ticks": ""
             }
            },
            "type": "scattergl"
           }
          ],
          "scattermapbox": [
           {
            "marker": {
             "colorbar": {
              "outlinewidth": 0,
              "ticks": ""
             }
            },
            "type": "scattermapbox"
           }
          ],
          "scatterpolar": [
           {
            "marker": {
             "colorbar": {
              "outlinewidth": 0,
              "ticks": ""
             }
            },
            "type": "scatterpolar"
           }
          ],
          "scatterpolargl": [
           {
            "marker": {
             "colorbar": {
              "outlinewidth": 0,
              "ticks": ""
             }
            },
            "type": "scatterpolargl"
           }
          ],
          "scatterternary": [
           {
            "marker": {
             "colorbar": {
              "outlinewidth": 0,
              "ticks": ""
             }
            },
            "type": "scatterternary"
           }
          ],
          "surface": [
           {
            "colorbar": {
             "outlinewidth": 0,
             "ticks": ""
            },
            "colorscale": [
             [
              0,
              "#0d0887"
             ],
             [
              0.1111111111111111,
              "#46039f"
             ],
             [
              0.2222222222222222,
              "#7201a8"
             ],
             [
              0.3333333333333333,
              "#9c179e"
             ],
             [
              0.4444444444444444,
              "#bd3786"
             ],
             [
              0.5555555555555556,
              "#d8576b"
             ],
             [
              0.6666666666666666,
              "#ed7953"
             ],
             [
              0.7777777777777778,
              "#fb9f3a"
             ],
             [
              0.8888888888888888,
              "#fdca26"
             ],
             [
              1,
              "#f0f921"
             ]
            ],
            "type": "surface"
           }
          ],
          "table": [
           {
            "cells": {
             "fill": {
              "color": "#EBF0F8"
             },
             "line": {
              "color": "white"
             }
            },
            "header": {
             "fill": {
              "color": "#C8D4E3"
             },
             "line": {
              "color": "white"
             }
            },
            "type": "table"
           }
          ]
         },
         "layout": {
          "annotationdefaults": {
           "arrowcolor": "#2a3f5f",
           "arrowhead": 0,
           "arrowwidth": 1
          },
          "autotypenumbers": "strict",
          "coloraxis": {
           "colorbar": {
            "outlinewidth": 0,
            "ticks": ""
           }
          },
          "colorscale": {
           "diverging": [
            [
             0,
             "#8e0152"
            ],
            [
             0.1,
             "#c51b7d"
            ],
            [
             0.2,
             "#de77ae"
            ],
            [
             0.3,
             "#f1b6da"
            ],
            [
             0.4,
             "#fde0ef"
            ],
            [
             0.5,
             "#f7f7f7"
            ],
            [
             0.6,
             "#e6f5d0"
            ],
            [
             0.7,
             "#b8e186"
            ],
            [
             0.8,
             "#7fbc41"
            ],
            [
             0.9,
             "#4d9221"
            ],
            [
             1,
             "#276419"
            ]
           ],
           "sequential": [
            [
             0,
             "#0d0887"
            ],
            [
             0.1111111111111111,
             "#46039f"
            ],
            [
             0.2222222222222222,
             "#7201a8"
            ],
            [
             0.3333333333333333,
             "#9c179e"
            ],
            [
             0.4444444444444444,
             "#bd3786"
            ],
            [
             0.5555555555555556,
             "#d8576b"
            ],
            [
             0.6666666666666666,
             "#ed7953"
            ],
            [
             0.7777777777777778,
             "#fb9f3a"
            ],
            [
             0.8888888888888888,
             "#fdca26"
            ],
            [
             1,
             "#f0f921"
            ]
           ],
           "sequentialminus": [
            [
             0,
             "#0d0887"
            ],
            [
             0.1111111111111111,
             "#46039f"
            ],
            [
             0.2222222222222222,
             "#7201a8"
            ],
            [
             0.3333333333333333,
             "#9c179e"
            ],
            [
             0.4444444444444444,
             "#bd3786"
            ],
            [
             0.5555555555555556,
             "#d8576b"
            ],
            [
             0.6666666666666666,
             "#ed7953"
            ],
            [
             0.7777777777777778,
             "#fb9f3a"
            ],
            [
             0.8888888888888888,
             "#fdca26"
            ],
            [
             1,
             "#f0f921"
            ]
           ]
          },
          "colorway": [
           "#636efa",
           "#EF553B",
           "#00cc96",
           "#ab63fa",
           "#FFA15A",
           "#19d3f3",
           "#FF6692",
           "#B6E880",
           "#FF97FF",
           "#FECB52"
          ],
          "font": {
           "color": "#2a3f5f"
          },
          "geo": {
           "bgcolor": "white",
           "lakecolor": "white",
           "landcolor": "#E5ECF6",
           "showlakes": true,
           "showland": true,
           "subunitcolor": "white"
          },
          "hoverlabel": {
           "align": "left"
          },
          "hovermode": "closest",
          "mapbox": {
           "style": "light"
          },
          "paper_bgcolor": "white",
          "plot_bgcolor": "#E5ECF6",
          "polar": {
           "angularaxis": {
            "gridcolor": "white",
            "linecolor": "white",
            "ticks": ""
           },
           "bgcolor": "#E5ECF6",
           "radialaxis": {
            "gridcolor": "white",
            "linecolor": "white",
            "ticks": ""
           }
          },
          "scene": {
           "xaxis": {
            "backgroundcolor": "#E5ECF6",
            "gridcolor": "white",
            "gridwidth": 2,
            "linecolor": "white",
            "showbackground": true,
            "ticks": "",
            "zerolinecolor": "white"
           },
           "yaxis": {
            "backgroundcolor": "#E5ECF6",
            "gridcolor": "white",
            "gridwidth": 2,
            "linecolor": "white",
            "showbackground": true,
            "ticks": "",
            "zerolinecolor": "white"
           },
           "zaxis": {
            "backgroundcolor": "#E5ECF6",
            "gridcolor": "white",
            "gridwidth": 2,
            "linecolor": "white",
            "showbackground": true,
            "ticks": "",
            "zerolinecolor": "white"
           }
          },
          "shapedefaults": {
           "line": {
            "color": "#2a3f5f"
           }
          },
          "ternary": {
           "aaxis": {
            "gridcolor": "white",
            "linecolor": "white",
            "ticks": ""
           },
           "baxis": {
            "gridcolor": "white",
            "linecolor": "white",
            "ticks": ""
           },
           "bgcolor": "#E5ECF6",
           "caxis": {
            "gridcolor": "white",
            "linecolor": "white",
            "ticks": ""
           }
          },
          "title": {
           "x": 0.05
          },
          "xaxis": {
           "automargin": true,
           "gridcolor": "white",
           "linecolor": "white",
           "ticks": "",
           "title": {
            "standoff": 15
           },
           "zerolinecolor": "white",
           "zerolinewidth": 2
          },
          "yaxis": {
           "automargin": true,
           "gridcolor": "white",
           "linecolor": "white",
           "ticks": "",
           "title": {
            "standoff": 15
           },
           "zerolinecolor": "white",
           "zerolinewidth": 2
          }
         }
        },
        "title": {
         "text": "Optimization History Plot"
        },
        "xaxis": {
         "title": {
          "text": "Trial"
         }
        },
        "yaxis": {
         "title": {
          "text": "f1-score"
         }
        }
       }
      }
     },
     "metadata": {},
     "output_type": "display_data"
    }
   ],
   "source": [
    "optuna.visualization.plot_optimization_history(study, target_name='f1-score')"
   ]
  },
  {
   "cell_type": "code",
   "execution_count": 102,
   "metadata": {},
   "outputs": [
    {
     "name": "stdout",
     "output_type": "stream",
     "text": [
      "best f1-score by Optuna: 0.8\n"
     ]
    }
   ],
   "source": [
    "model = ensemble.RandomForestClassifier(**study.best_params, random_state=random_state)\n",
    "model.fit(X_train, y_train)\n",
    "print('best f1-score by Optuna: {}'.format(round(metrics.f1_score(y_test, model.predict(X_test)), 2)))"
   ]
  },
  {
   "cell_type": "markdown",
   "metadata": {},
   "source": [
    "Для случайных деревьев Optuna тоже показывает лучший результат и самую быструю работу."
   ]
  },
  {
   "cell_type": "markdown",
   "metadata": {},
   "source": [
    "# Кросс-валидация"
   ]
  },
  {
   "cell_type": "markdown",
   "metadata": {},
   "source": [
    "Попробуем использовать кросс-валидацию вместе с Optuna - лучшим способом подбора гипермараметров. Будем использовать модель случайного леса, т.к. она показала себя лучше логистической регресии"
   ]
  },
  {
   "cell_type": "code",
   "execution_count": 112,
   "metadata": {},
   "outputs": [
    {
     "name": "stderr",
     "output_type": "stream",
     "text": [
      "[I 2024-08-10 21:55:54,141] A new study created in memory with name: RandomForestClassifier\n",
      "[I 2024-08-10 21:55:54,284] Trial 0 finished with value: -inf and parameters: {'criterion': 'logloss', 'n_estimators': 180, 'max_depth': 15, 'min_samples_leaf': 25}. Best is trial 0 with value: -inf.\n",
      "[I 2024-08-10 21:56:00,831] Trial 1 finished with value: 0.7729324566989295 and parameters: {'criterion': 'gini', 'n_estimators': 200, 'max_depth': 10, 'min_samples_leaf': 30}. Best is trial 1 with value: 0.7729324566989295.\n",
      "[I 2024-08-10 21:56:05,920] Trial 2 finished with value: 0.7711184294825058 and parameters: {'criterion': 'gini', 'n_estimators': 160, 'max_depth': 45, 'min_samples_leaf': 35}. Best is trial 1 with value: 0.7729324566989295.\n",
      "[I 2024-08-10 21:56:11,969] Trial 3 finished with value: 0.7505227003819084 and parameters: {'criterion': 'entropy', 'n_estimators': 280, 'max_depth': 5, 'min_samples_leaf': 85}. Best is trial 1 with value: 0.7729324566989295.\n",
      "[I 2024-08-10 21:56:15,769] Trial 4 finished with value: 0.7645787975543986 and parameters: {'criterion': 'entropy', 'n_estimators': 130, 'max_depth': 20, 'min_samples_leaf': 60}. Best is trial 1 with value: 0.7729324566989295.\n",
      "[I 2024-08-10 21:56:15,885] Trial 5 finished with value: -inf and parameters: {'criterion': 'logloss', 'n_estimators': 130, 'max_depth': 30, 'min_samples_leaf': 45}. Best is trial 1 with value: 0.7729324566989295.\n",
      "[I 2024-08-10 21:56:22,702] Trial 6 finished with value: 0.763170282214827 and parameters: {'criterion': 'entropy', 'n_estimators': 250, 'max_depth': 25, 'min_samples_leaf': 65}. Best is trial 1 with value: 0.7729324566989295.\n",
      "[I 2024-08-10 21:56:22,808] Trial 7 finished with value: -inf and parameters: {'criterion': 'logloss', 'n_estimators': 100, 'max_depth': 10, 'min_samples_leaf': 50}. Best is trial 1 with value: 0.7729324566989295.\n",
      "[I 2024-08-10 21:56:22,925] Trial 8 finished with value: -inf and parameters: {'criterion': 'logloss', 'n_estimators': 180, 'max_depth': 20, 'min_samples_leaf': 65}. Best is trial 1 with value: 0.7729324566989295.\n",
      "[I 2024-08-10 21:56:29,043] Trial 9 finished with value: 0.7516160641426973 and parameters: {'criterion': 'gini', 'n_estimators': 260, 'max_depth': 40, 'min_samples_leaf': 100}. Best is trial 1 with value: 0.7729324566989295.\n",
      "[I 2024-08-10 21:56:41,490] Trial 10 finished with value: 0.8083185404706473 and parameters: {'criterion': 'gini', 'n_estimators': 220, 'max_depth': 65, 'min_samples_leaf': 5}. Best is trial 10 with value: 0.8083185404706473.\n",
      "[I 2024-08-10 21:56:53,546] Trial 11 finished with value: 0.8083185404706473 and parameters: {'criterion': 'gini', 'n_estimators': 220, 'max_depth': 70, 'min_samples_leaf': 5}. Best is trial 10 with value: 0.8083185404706473.\n",
      "[I 2024-08-10 21:57:06,637] Trial 12 finished with value: 0.8112626712950212 and parameters: {'criterion': 'gini', 'n_estimators': 230, 'max_depth': 70, 'min_samples_leaf': 5}. Best is trial 12 with value: 0.8112626712950212.\n",
      "[I 2024-08-10 21:57:19,846] Trial 13 finished with value: 0.8100079371780282 and parameters: {'criterion': 'gini', 'n_estimators': 240, 'max_depth': 70, 'min_samples_leaf': 5}. Best is trial 12 with value: 0.8112626712950212.\n",
      "[I 2024-08-10 21:57:31,607] Trial 14 finished with value: 0.7882280521899083 and parameters: {'criterion': 'gini', 'n_estimators': 290, 'max_depth': 55, 'min_samples_leaf': 15}. Best is trial 12 with value: 0.8112626712950212.\n",
      "[I 2024-08-10 21:57:40,919] Trial 15 finished with value: 0.7840678479098248 and parameters: {'criterion': 'gini', 'n_estimators': 240, 'max_depth': 60, 'min_samples_leaf': 20}. Best is trial 12 with value: 0.8112626712950212.\n",
      "[I 2024-08-10 21:57:53,572] Trial 16 finished with value: 0.8112626712950212 and parameters: {'criterion': 'gini', 'n_estimators': 230, 'max_depth': 50, 'min_samples_leaf': 5}. Best is trial 12 with value: 0.8112626712950212.\n",
      "[I 2024-08-10 21:58:02,500] Trial 17 finished with value: 0.7672000245018697 and parameters: {'criterion': 'gini', 'n_estimators': 300, 'max_depth': 55, 'min_samples_leaf': 40}. Best is trial 12 with value: 0.8112626712950212.\n",
      "[I 2024-08-10 21:58:11,219] Trial 18 finished with value: 0.7890403076196648 and parameters: {'criterion': 'gini', 'n_estimators': 210, 'max_depth': 50, 'min_samples_leaf': 15}. Best is trial 12 with value: 0.8112626712950212.\n",
      "[I 2024-08-10 21:58:18,729] Trial 19 finished with value: 0.7601638773097645 and parameters: {'criterion': 'entropy', 'n_estimators': 270, 'max_depth': 45, 'min_samples_leaf': 80}. Best is trial 12 with value: 0.8112626712950212.\n",
      "[I 2024-08-10 21:58:28,236] Trial 20 finished with value: 0.7891696096516573 and parameters: {'criterion': 'gini', 'n_estimators': 230, 'max_depth': 35, 'min_samples_leaf': 15}. Best is trial 12 with value: 0.8112626712950212.\n",
      "[I 2024-08-10 21:58:41,924] Trial 21 finished with value: 0.810874182397928 and parameters: {'criterion': 'gini', 'n_estimators': 250, 'max_depth': 70, 'min_samples_leaf': 5}. Best is trial 12 with value: 0.8112626712950212.\n",
      "[I 2024-08-10 21:58:56,822] Trial 22 finished with value: 0.8110089799111423 and parameters: {'criterion': 'gini', 'n_estimators': 260, 'max_depth': 65, 'min_samples_leaf': 5}. Best is trial 12 with value: 0.8112626712950212.\n",
      "[I 2024-08-10 21:59:03,538] Trial 23 finished with value: 0.7741894993441732 and parameters: {'criterion': 'gini', 'n_estimators': 190, 'max_depth': 60, 'min_samples_leaf': 25}. Best is trial 12 with value: 0.8112626712950212.\n",
      "[I 2024-08-10 21:59:14,168] Trial 24 finished with value: 0.7885225155207467 and parameters: {'criterion': 'gini', 'n_estimators': 260, 'max_depth': 60, 'min_samples_leaf': 15}. Best is trial 12 with value: 0.8112626712950212.\n"
     ]
    }
   ],
   "source": [
    "# Напишем функцию, которая будет возвращать f1 метрику для подбора лучших гиперпараметров через Optuna\n",
    "def optuna_func(obj):\n",
    "    try:\n",
    "        criterion = obj.suggest_categorical('criterion', ['gini', 'entropy', 'logloss'])\n",
    "        n_estimators = obj.suggest_int('n_estimators', 100, 300, 10)\n",
    "        max_depth = obj.suggest_int('max_depth', 5, 70, 5)\n",
    "        min_samples_leaf = obj.suggest_int('min_samples_leaf', 5, 100, 5)\n",
    "        \n",
    "        model = ensemble.RandomForestClassifier(criterion=criterion,\n",
    "                                                n_estimators=n_estimators,\n",
    "                                                max_depth=max_depth,\n",
    "                                                min_samples_leaf=min_samples_leaf,\n",
    "                                                random_state=random_state)\n",
    "\n",
    "        kf = KFold(n_splits=5)\n",
    "        cv_metrics = cross_validate(estimator=model,\n",
    "                                    cv=kf,\n",
    "                                    X=X,\n",
    "                                    y=y,\n",
    "                                    scoring='f1')\n",
    "\n",
    "\n",
    "        return np.mean(cv_metrics['test_score'])\n",
    "\n",
    "    except ValueError:  \n",
    "        \n",
    "        return -float('inf')\n",
    "    \n",
    "\n",
    "# Создаём объект исследования\n",
    "study = optuna.create_study(study_name='RandomForestClassifier', direction='maximize')\n",
    "study.optimize(optuna_func, n_trials=25)"
   ]
  },
  {
   "cell_type": "code",
   "execution_count": 113,
   "metadata": {},
   "outputs": [
    {
     "data": {
      "application/vnd.plotly.v1+json": {
       "config": {
        "plotlyServerURL": "https://plot.ly"
       },
       "data": [
        {
         "mode": "markers",
         "name": "f1-score",
         "type": "scatter",
         "x": [
          0,
          1,
          2,
          3,
          4,
          5,
          6,
          7,
          8,
          9,
          10,
          11,
          12,
          13,
          14,
          15,
          16,
          17,
          18,
          19,
          20,
          21,
          22,
          23,
          24
         ],
         "y": [
          null,
          0.7729324566989295,
          0.7711184294825058,
          0.7505227003819084,
          0.7645787975543986,
          null,
          0.763170282214827,
          null,
          null,
          0.7516160641426973,
          0.8083185404706473,
          0.8083185404706473,
          0.8112626712950212,
          0.8100079371780282,
          0.7882280521899083,
          0.7840678479098248,
          0.8112626712950212,
          0.7672000245018697,
          0.7890403076196648,
          0.7601638773097645,
          0.7891696096516573,
          0.810874182397928,
          0.8110089799111423,
          0.7741894993441732,
          0.7885225155207467
         ]
        },
        {
         "mode": "lines",
         "name": "Best Value",
         "type": "scatter",
         "x": [
          0,
          1,
          2,
          3,
          4,
          5,
          6,
          7,
          8,
          9,
          10,
          11,
          12,
          13,
          14,
          15,
          16,
          17,
          18,
          19,
          20,
          21,
          22,
          23,
          24
         ],
         "y": [
          null,
          0.7729324566989295,
          0.7729324566989295,
          0.7729324566989295,
          0.7729324566989295,
          0.7729324566989295,
          0.7729324566989295,
          0.7729324566989295,
          0.7729324566989295,
          0.7729324566989295,
          0.8083185404706473,
          0.8083185404706473,
          0.8112626712950212,
          0.8112626712950212,
          0.8112626712950212,
          0.8112626712950212,
          0.8112626712950212,
          0.8112626712950212,
          0.8112626712950212,
          0.8112626712950212,
          0.8112626712950212,
          0.8112626712950212,
          0.8112626712950212,
          0.8112626712950212,
          0.8112626712950212
         ]
        },
        {
         "marker": {
          "color": "#cccccc"
         },
         "mode": "markers",
         "name": "Infeasible Trial",
         "showlegend": false,
         "type": "scatter",
         "x": [],
         "y": []
        }
       ],
       "layout": {
        "template": {
         "data": {
          "bar": [
           {
            "error_x": {
             "color": "#2a3f5f"
            },
            "error_y": {
             "color": "#2a3f5f"
            },
            "marker": {
             "line": {
              "color": "#E5ECF6",
              "width": 0.5
             },
             "pattern": {
              "fillmode": "overlay",
              "size": 10,
              "solidity": 0.2
             }
            },
            "type": "bar"
           }
          ],
          "barpolar": [
           {
            "marker": {
             "line": {
              "color": "#E5ECF6",
              "width": 0.5
             },
             "pattern": {
              "fillmode": "overlay",
              "size": 10,
              "solidity": 0.2
             }
            },
            "type": "barpolar"
           }
          ],
          "carpet": [
           {
            "aaxis": {
             "endlinecolor": "#2a3f5f",
             "gridcolor": "white",
             "linecolor": "white",
             "minorgridcolor": "white",
             "startlinecolor": "#2a3f5f"
            },
            "baxis": {
             "endlinecolor": "#2a3f5f",
             "gridcolor": "white",
             "linecolor": "white",
             "minorgridcolor": "white",
             "startlinecolor": "#2a3f5f"
            },
            "type": "carpet"
           }
          ],
          "choropleth": [
           {
            "colorbar": {
             "outlinewidth": 0,
             "ticks": ""
            },
            "type": "choropleth"
           }
          ],
          "contour": [
           {
            "colorbar": {
             "outlinewidth": 0,
             "ticks": ""
            },
            "colorscale": [
             [
              0,
              "#0d0887"
             ],
             [
              0.1111111111111111,
              "#46039f"
             ],
             [
              0.2222222222222222,
              "#7201a8"
             ],
             [
              0.3333333333333333,
              "#9c179e"
             ],
             [
              0.4444444444444444,
              "#bd3786"
             ],
             [
              0.5555555555555556,
              "#d8576b"
             ],
             [
              0.6666666666666666,
              "#ed7953"
             ],
             [
              0.7777777777777778,
              "#fb9f3a"
             ],
             [
              0.8888888888888888,
              "#fdca26"
             ],
             [
              1,
              "#f0f921"
             ]
            ],
            "type": "contour"
           }
          ],
          "contourcarpet": [
           {
            "colorbar": {
             "outlinewidth": 0,
             "ticks": ""
            },
            "type": "contourcarpet"
           }
          ],
          "heatmap": [
           {
            "colorbar": {
             "outlinewidth": 0,
             "ticks": ""
            },
            "colorscale": [
             [
              0,
              "#0d0887"
             ],
             [
              0.1111111111111111,
              "#46039f"
             ],
             [
              0.2222222222222222,
              "#7201a8"
             ],
             [
              0.3333333333333333,
              "#9c179e"
             ],
             [
              0.4444444444444444,
              "#bd3786"
             ],
             [
              0.5555555555555556,
              "#d8576b"
             ],
             [
              0.6666666666666666,
              "#ed7953"
             ],
             [
              0.7777777777777778,
              "#fb9f3a"
             ],
             [
              0.8888888888888888,
              "#fdca26"
             ],
             [
              1,
              "#f0f921"
             ]
            ],
            "type": "heatmap"
           }
          ],
          "heatmapgl": [
           {
            "colorbar": {
             "outlinewidth": 0,
             "ticks": ""
            },
            "colorscale": [
             [
              0,
              "#0d0887"
             ],
             [
              0.1111111111111111,
              "#46039f"
             ],
             [
              0.2222222222222222,
              "#7201a8"
             ],
             [
              0.3333333333333333,
              "#9c179e"
             ],
             [
              0.4444444444444444,
              "#bd3786"
             ],
             [
              0.5555555555555556,
              "#d8576b"
             ],
             [
              0.6666666666666666,
              "#ed7953"
             ],
             [
              0.7777777777777778,
              "#fb9f3a"
             ],
             [
              0.8888888888888888,
              "#fdca26"
             ],
             [
              1,
              "#f0f921"
             ]
            ],
            "type": "heatmapgl"
           }
          ],
          "histogram": [
           {
            "marker": {
             "pattern": {
              "fillmode": "overlay",
              "size": 10,
              "solidity": 0.2
             }
            },
            "type": "histogram"
           }
          ],
          "histogram2d": [
           {
            "colorbar": {
             "outlinewidth": 0,
             "ticks": ""
            },
            "colorscale": [
             [
              0,
              "#0d0887"
             ],
             [
              0.1111111111111111,
              "#46039f"
             ],
             [
              0.2222222222222222,
              "#7201a8"
             ],
             [
              0.3333333333333333,
              "#9c179e"
             ],
             [
              0.4444444444444444,
              "#bd3786"
             ],
             [
              0.5555555555555556,
              "#d8576b"
             ],
             [
              0.6666666666666666,
              "#ed7953"
             ],
             [
              0.7777777777777778,
              "#fb9f3a"
             ],
             [
              0.8888888888888888,
              "#fdca26"
             ],
             [
              1,
              "#f0f921"
             ]
            ],
            "type": "histogram2d"
           }
          ],
          "histogram2dcontour": [
           {
            "colorbar": {
             "outlinewidth": 0,
             "ticks": ""
            },
            "colorscale": [
             [
              0,
              "#0d0887"
             ],
             [
              0.1111111111111111,
              "#46039f"
             ],
             [
              0.2222222222222222,
              "#7201a8"
             ],
             [
              0.3333333333333333,
              "#9c179e"
             ],
             [
              0.4444444444444444,
              "#bd3786"
             ],
             [
              0.5555555555555556,
              "#d8576b"
             ],
             [
              0.6666666666666666,
              "#ed7953"
             ],
             [
              0.7777777777777778,
              "#fb9f3a"
             ],
             [
              0.8888888888888888,
              "#fdca26"
             ],
             [
              1,
              "#f0f921"
             ]
            ],
            "type": "histogram2dcontour"
           }
          ],
          "mesh3d": [
           {
            "colorbar": {
             "outlinewidth": 0,
             "ticks": ""
            },
            "type": "mesh3d"
           }
          ],
          "parcoords": [
           {
            "line": {
             "colorbar": {
              "outlinewidth": 0,
              "ticks": ""
             }
            },
            "type": "parcoords"
           }
          ],
          "pie": [
           {
            "automargin": true,
            "type": "pie"
           }
          ],
          "scatter": [
           {
            "fillpattern": {
             "fillmode": "overlay",
             "size": 10,
             "solidity": 0.2
            },
            "type": "scatter"
           }
          ],
          "scatter3d": [
           {
            "line": {
             "colorbar": {
              "outlinewidth": 0,
              "ticks": ""
             }
            },
            "marker": {
             "colorbar": {
              "outlinewidth": 0,
              "ticks": ""
             }
            },
            "type": "scatter3d"
           }
          ],
          "scattercarpet": [
           {
            "marker": {
             "colorbar": {
              "outlinewidth": 0,
              "ticks": ""
             }
            },
            "type": "scattercarpet"
           }
          ],
          "scattergeo": [
           {
            "marker": {
             "colorbar": {
              "outlinewidth": 0,
              "ticks": ""
             }
            },
            "type": "scattergeo"
           }
          ],
          "scattergl": [
           {
            "marker": {
             "colorbar": {
              "outlinewidth": 0,
              "ticks": ""
             }
            },
            "type": "scattergl"
           }
          ],
          "scattermapbox": [
           {
            "marker": {
             "colorbar": {
              "outlinewidth": 0,
              "ticks": ""
             }
            },
            "type": "scattermapbox"
           }
          ],
          "scatterpolar": [
           {
            "marker": {
             "colorbar": {
              "outlinewidth": 0,
              "ticks": ""
             }
            },
            "type": "scatterpolar"
           }
          ],
          "scatterpolargl": [
           {
            "marker": {
             "colorbar": {
              "outlinewidth": 0,
              "ticks": ""
             }
            },
            "type": "scatterpolargl"
           }
          ],
          "scatterternary": [
           {
            "marker": {
             "colorbar": {
              "outlinewidth": 0,
              "ticks": ""
             }
            },
            "type": "scatterternary"
           }
          ],
          "surface": [
           {
            "colorbar": {
             "outlinewidth": 0,
             "ticks": ""
            },
            "colorscale": [
             [
              0,
              "#0d0887"
             ],
             [
              0.1111111111111111,
              "#46039f"
             ],
             [
              0.2222222222222222,
              "#7201a8"
             ],
             [
              0.3333333333333333,
              "#9c179e"
             ],
             [
              0.4444444444444444,
              "#bd3786"
             ],
             [
              0.5555555555555556,
              "#d8576b"
             ],
             [
              0.6666666666666666,
              "#ed7953"
             ],
             [
              0.7777777777777778,
              "#fb9f3a"
             ],
             [
              0.8888888888888888,
              "#fdca26"
             ],
             [
              1,
              "#f0f921"
             ]
            ],
            "type": "surface"
           }
          ],
          "table": [
           {
            "cells": {
             "fill": {
              "color": "#EBF0F8"
             },
             "line": {
              "color": "white"
             }
            },
            "header": {
             "fill": {
              "color": "#C8D4E3"
             },
             "line": {
              "color": "white"
             }
            },
            "type": "table"
           }
          ]
         },
         "layout": {
          "annotationdefaults": {
           "arrowcolor": "#2a3f5f",
           "arrowhead": 0,
           "arrowwidth": 1
          },
          "autotypenumbers": "strict",
          "coloraxis": {
           "colorbar": {
            "outlinewidth": 0,
            "ticks": ""
           }
          },
          "colorscale": {
           "diverging": [
            [
             0,
             "#8e0152"
            ],
            [
             0.1,
             "#c51b7d"
            ],
            [
             0.2,
             "#de77ae"
            ],
            [
             0.3,
             "#f1b6da"
            ],
            [
             0.4,
             "#fde0ef"
            ],
            [
             0.5,
             "#f7f7f7"
            ],
            [
             0.6,
             "#e6f5d0"
            ],
            [
             0.7,
             "#b8e186"
            ],
            [
             0.8,
             "#7fbc41"
            ],
            [
             0.9,
             "#4d9221"
            ],
            [
             1,
             "#276419"
            ]
           ],
           "sequential": [
            [
             0,
             "#0d0887"
            ],
            [
             0.1111111111111111,
             "#46039f"
            ],
            [
             0.2222222222222222,
             "#7201a8"
            ],
            [
             0.3333333333333333,
             "#9c179e"
            ],
            [
             0.4444444444444444,
             "#bd3786"
            ],
            [
             0.5555555555555556,
             "#d8576b"
            ],
            [
             0.6666666666666666,
             "#ed7953"
            ],
            [
             0.7777777777777778,
             "#fb9f3a"
            ],
            [
             0.8888888888888888,
             "#fdca26"
            ],
            [
             1,
             "#f0f921"
            ]
           ],
           "sequentialminus": [
            [
             0,
             "#0d0887"
            ],
            [
             0.1111111111111111,
             "#46039f"
            ],
            [
             0.2222222222222222,
             "#7201a8"
            ],
            [
             0.3333333333333333,
             "#9c179e"
            ],
            [
             0.4444444444444444,
             "#bd3786"
            ],
            [
             0.5555555555555556,
             "#d8576b"
            ],
            [
             0.6666666666666666,
             "#ed7953"
            ],
            [
             0.7777777777777778,
             "#fb9f3a"
            ],
            [
             0.8888888888888888,
             "#fdca26"
            ],
            [
             1,
             "#f0f921"
            ]
           ]
          },
          "colorway": [
           "#636efa",
           "#EF553B",
           "#00cc96",
           "#ab63fa",
           "#FFA15A",
           "#19d3f3",
           "#FF6692",
           "#B6E880",
           "#FF97FF",
           "#FECB52"
          ],
          "font": {
           "color": "#2a3f5f"
          },
          "geo": {
           "bgcolor": "white",
           "lakecolor": "white",
           "landcolor": "#E5ECF6",
           "showlakes": true,
           "showland": true,
           "subunitcolor": "white"
          },
          "hoverlabel": {
           "align": "left"
          },
          "hovermode": "closest",
          "mapbox": {
           "style": "light"
          },
          "paper_bgcolor": "white",
          "plot_bgcolor": "#E5ECF6",
          "polar": {
           "angularaxis": {
            "gridcolor": "white",
            "linecolor": "white",
            "ticks": ""
           },
           "bgcolor": "#E5ECF6",
           "radialaxis": {
            "gridcolor": "white",
            "linecolor": "white",
            "ticks": ""
           }
          },
          "scene": {
           "xaxis": {
            "backgroundcolor": "#E5ECF6",
            "gridcolor": "white",
            "gridwidth": 2,
            "linecolor": "white",
            "showbackground": true,
            "ticks": "",
            "zerolinecolor": "white"
           },
           "yaxis": {
            "backgroundcolor": "#E5ECF6",
            "gridcolor": "white",
            "gridwidth": 2,
            "linecolor": "white",
            "showbackground": true,
            "ticks": "",
            "zerolinecolor": "white"
           },
           "zaxis": {
            "backgroundcolor": "#E5ECF6",
            "gridcolor": "white",
            "gridwidth": 2,
            "linecolor": "white",
            "showbackground": true,
            "ticks": "",
            "zerolinecolor": "white"
           }
          },
          "shapedefaults": {
           "line": {
            "color": "#2a3f5f"
           }
          },
          "ternary": {
           "aaxis": {
            "gridcolor": "white",
            "linecolor": "white",
            "ticks": ""
           },
           "baxis": {
            "gridcolor": "white",
            "linecolor": "white",
            "ticks": ""
           },
           "bgcolor": "#E5ECF6",
           "caxis": {
            "gridcolor": "white",
            "linecolor": "white",
            "ticks": ""
           }
          },
          "title": {
           "x": 0.05
          },
          "xaxis": {
           "automargin": true,
           "gridcolor": "white",
           "linecolor": "white",
           "ticks": "",
           "title": {
            "standoff": 15
           },
           "zerolinecolor": "white",
           "zerolinewidth": 2
          },
          "yaxis": {
           "automargin": true,
           "gridcolor": "white",
           "linecolor": "white",
           "ticks": "",
           "title": {
            "standoff": 15
           },
           "zerolinecolor": "white",
           "zerolinewidth": 2
          }
         }
        },
        "title": {
         "text": "Optimization History Plot"
        },
        "xaxis": {
         "title": {
          "text": "Trial"
         }
        },
        "yaxis": {
         "title": {
          "text": "f1-score"
         }
        }
       }
      }
     },
     "metadata": {},
     "output_type": "display_data"
    }
   ],
   "source": [
    "optuna.visualization.plot_optimization_history(study, target_name='f1-score')"
   ]
  },
  {
   "cell_type": "code",
   "execution_count": 116,
   "metadata": {},
   "outputs": [
    {
     "name": "stdout",
     "output_type": "stream",
     "text": [
      "best f1-score by Optuna & KFold-method: 0.8\n"
     ]
    }
   ],
   "source": [
    "model = ensemble.RandomForestClassifier(**study.best_params, random_state=random_state)\n",
    "model.fit(X_train, y_train)\n",
    "print('best f1-score by Optuna & KFold-method: {}'.format(round(metrics.f1_score(y_test, model.predict(X_test)), 2)))"
   ]
  },
  {
   "cell_type": "markdown",
   "metadata": {},
   "source": [
    "# Вывод"
   ]
  },
  {
   "cell_type": "markdown",
   "metadata": {},
   "source": [
    "Во всех случаях метрика не сильно менялась, однако при использовании продвинутых методов оптимизации гиперпараметров (hyperopt и optuna), времени на выполнение кода затратилось меньше. Использование кросс-валидации только увеличило время выполнения кода, а результат остался тем же. "
   ]
  }
 ],
 "metadata": {
  "kernelspec": {
   "display_name": "Python 3",
   "language": "python",
   "name": "python3"
  },
  "language_info": {
   "codemirror_mode": {
    "name": "ipython",
    "version": 3
   },
   "file_extension": ".py",
   "mimetype": "text/x-python",
   "name": "python",
   "nbconvert_exporter": "python",
   "pygments_lexer": "ipython3",
   "version": "3.12.2"
  }
 },
 "nbformat": 4,
 "nbformat_minor": 2
}
